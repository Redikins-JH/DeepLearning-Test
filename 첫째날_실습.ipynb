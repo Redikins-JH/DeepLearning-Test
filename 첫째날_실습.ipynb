{
  "nbformat": 4,
  "nbformat_minor": 0,
  "metadata": {
    "colab": {
      "name": "첫째날 실습",
      "version": "0.3.2",
      "provenance": [],
      "include_colab_link": true
    },
    "kernelspec": {
      "name": "python3",
      "display_name": "Python 3"
    }
  },
  "cells": [
    {
      "cell_type": "markdown",
      "metadata": {
        "id": "view-in-github",
        "colab_type": "text"
      },
      "source": [
        "<a href=\"https://colab.research.google.com/github/Seedplant/React-Test/blob/master/%EC%B2%AB%EC%A7%B8%EB%82%A0_%EC%8B%A4%EC%8A%B5.ipynb\" target=\"_parent\"><img src=\"https://colab.research.google.com/assets/colab-badge.svg\" alt=\"Open In Colab\"/></a>"
      ]
    },
    {
      "metadata": {
        "id": "iILrThMPl38r",
        "colab_type": "text"
      },
      "cell_type": "markdown",
      "source": [
        "**정종학 첫째날 작성코드**"
      ]
    },
    {
      "metadata": {
        "id": "H-7P8COxhqz3",
        "colab_type": "code",
        "colab": {
          "base_uri": "https://localhost:8080/",
          "height": 34
        },
        "outputId": "06bc8cc9-8cc5-4cf1-841c-976567f74167"
      },
      "cell_type": "code",
      "source": [
        "print(\"hello world\")"
      ],
      "execution_count": 1,
      "outputs": [
        {
          "output_type": "stream",
          "text": [
            "hello world\n"
          ],
          "name": "stdout"
        }
      ]
    },
    {
      "metadata": {
        "id": "wYAcN0f1irUK",
        "colab_type": "code",
        "colab": {}
      },
      "cell_type": "code",
      "source": [
        "import tensorflow as tf"
      ],
      "execution_count": 0,
      "outputs": []
    },
    {
      "metadata": {
        "id": "N-Ja4U0ymRP7",
        "colab_type": "code",
        "colab": {}
      },
      "cell_type": "code",
      "source": [
        "# 데이터 준비\n",
        "\n",
        "# 모델을 작성\n",
        "\n",
        "# 학습\n",
        "\n",
        "#평가"
      ],
      "execution_count": 0,
      "outputs": []
    }
  ]
}