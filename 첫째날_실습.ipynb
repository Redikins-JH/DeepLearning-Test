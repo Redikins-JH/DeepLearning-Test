{
  "nbformat": 4,
  "nbformat_minor": 0,
  "metadata": {
    "colab": {
      "name": "첫째날 실습",
      "version": "0.3.2",
      "provenance": [],
      "include_colab_link": true
    },
    "kernelspec": {
      "name": "python3",
      "display_name": "Python 3"
    }
  },
  "cells": [
    {
      "cell_type": "markdown",
      "metadata": {
        "id": "view-in-github",
        "colab_type": "text"
      },
      "source": [
        "<a href=\"https://colab.research.google.com/github/Seedplant/React-Test/blob/master/%EC%B2%AB%EC%A7%B8%EB%82%A0_%EC%8B%A4%EC%8A%B5.ipynb\" target=\"_parent\"><img src=\"https://colab.research.google.com/assets/colab-badge.svg\" alt=\"Open In Colab\"/></a>"
      ]
    },
    {
      "metadata": {
        "id": "iILrThMPl38r",
        "colab_type": "text"
      },
      "cell_type": "markdown",
      "source": [
        "**정종학 첫째날 작성코드**"
      ]
    },
    {
      "metadata": {
        "id": "H-7P8COxhqz3",
        "colab_type": "code",
        "colab": {
          "base_uri": "https://localhost:8080/",
          "height": 34
        },
        "outputId": "06bc8cc9-8cc5-4cf1-841c-976567f74167"
      },
      "cell_type": "code",
      "source": [
        "print(\"hello world\")"
      ],
      "execution_count": 1,
      "outputs": [
        {
          "output_type": "stream",
          "text": [
            "hello world\n"
          ],
          "name": "stdout"
        }
      ]
    },
    {
      "metadata": {
        "id": "wYAcN0f1irUK",
        "colab_type": "code",
        "colab": {}
      },
      "cell_type": "code",
      "source": [
        "import tensorflow as tf"
      ],
      "execution_count": 0,
      "outputs": []
    },
    {
      "metadata": {
        "colab_type": "code",
        "id": "N64VhXmkq8-e",
        "colab": {
          "base_uri": "https://localhost:8080/",
          "height": 193
        },
        "outputId": "695ebd1a-1d0e-4d1d-cdfa-7f08a4002724"
      },
      "cell_type": "code",
      "source": [
        "# 데이터 준비\n",
        "x = [\n",
        "    [25.0, 1.0],\n",
        "    [28.0, 0.0],\n",
        "    [23.0, 1.0]\n",
        "]\n",
        "\n",
        "y = [\n",
        "    [101.0],\n",
        "    [100.0],\n",
        "    [88.0]\n",
        "]\n",
        "# 모델을 작성\n",
        "X = tf.placeholder(tf.float32, shape=(None, 2))\n",
        "Y = tf.placeholder(tf.float32, shape=(None, 1))\n",
        "\n",
        "W = tf.Variable(tf.random_normal([2, 1]))\n",
        "B = tf.Variable(tf.random_normal([1]))\n",
        "\n",
        "# H = X * W + B\n",
        "H = tf.add(tf.matmul(X, W), B)\n",
        "\n",
        "# \"오차\" 계산\n",
        "# cost = (H - Y)^2\n",
        "\n",
        "cost = tf.square(tf.subtract(H, Y))\n",
        "cost = tf.reduce_mean(cost)\n",
        "optimizer = tf.train.AdamOptimizer(1).minimize(cost)\n",
        "\n",
        "# 학습\n",
        "\n",
        "sess = tf.Session()\n",
        "sess.run(tf.global_variables_initializer())\n",
        "\n",
        "for i in range(1000):\n",
        "    sess.run(optimizer, feed_dict={X: x, Y: y})\n",
        "    if i % 100 == 0:\n",
        "      print(sess.run(cost, feed_dict={X: x,  Y: y}))\n",
        "      \n",
        "\n",
        "#평가"
      ],
      "execution_count": 18,
      "outputs": [
        {
          "output_type": "stream",
          "text": [
            "5300.3657\n",
            "6.5589843\n",
            "6.2738547\n",
            "6.1821976\n",
            "6.0726833\n",
            "5.94759\n",
            "5.8086457\n",
            "5.6571846\n",
            "5.4945064\n",
            "5.321692\n"
          ],
          "name": "stdout"
        }
      ]
    }
  ]
}