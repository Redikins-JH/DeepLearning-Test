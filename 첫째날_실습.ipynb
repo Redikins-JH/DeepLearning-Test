{
  "nbformat": 4,
  "nbformat_minor": 0,
  "metadata": {
    "colab": {
      "name": "첫째날 실습",
      "version": "0.3.2",
      "provenance": [],
      "collapsed_sections": [],
      "include_colab_link": true
    },
    "kernelspec": {
      "name": "python3",
      "display_name": "Python 3"
    }
  },
  "cells": [
    {
      "cell_type": "markdown",
      "metadata": {
        "id": "view-in-github",
        "colab_type": "text"
      },
      "source": [
        "<a href=\"https://colab.research.google.com/github/Seedplant/React-Test/blob/master/%EC%B2%AB%EC%A7%B8%EB%82%A0_%EC%8B%A4%EC%8A%B5.ipynb\" target=\"_parent\"><img src=\"https://colab.research.google.com/assets/colab-badge.svg\" alt=\"Open In Colab\"/></a>"
      ]
    },
    {
      "metadata": {
        "id": "iILrThMPl38r",
        "colab_type": "text"
      },
      "cell_type": "markdown",
      "source": [
        "**정종학 첫째날 작성코드**"
      ]
    },
    {
      "metadata": {
        "id": "H-7P8COxhqz3",
        "colab_type": "code",
        "colab": {
          "base_uri": "https://localhost:8080/",
          "height": 34
        },
        "outputId": "06bc8cc9-8cc5-4cf1-841c-976567f74167"
      },
      "cell_type": "code",
      "source": [
        "print(\"hello world\")"
      ],
      "execution_count": 1,
      "outputs": [
        {
          "output_type": "stream",
          "text": [
            "hello world\n"
          ],
          "name": "stdout"
        }
      ]
    },
    {
      "metadata": {
        "id": "wYAcN0f1irUK",
        "colab_type": "code",
        "colab": {}
      },
      "cell_type": "code",
      "source": [
        "import tensorflow as tf"
      ],
      "execution_count": 0,
      "outputs": []
    },
    {
      "metadata": {
        "colab_type": "code",
        "id": "N64VhXmkq8-e",
        "colab": {
          "base_uri": "https://localhost:8080/",
          "height": 193
        },
        "outputId": "3c151c95-906d-4a89-82de-a53b53d50b0a"
      },
      "cell_type": "code",
      "source": [
        "###리니어 리그레이션 모델###\n",
        "\n",
        "# 데이터 준비\n",
        "x = [\n",
        "    [25.0, 1.0],\n",
        "    [28.0, 0.0],\n",
        "    [23.0, 1.0]\n",
        "]\n",
        "\n",
        "y = [\n",
        "    [101.0],\n",
        "    [100.0],\n",
        "    [88.0]\n",
        "]\n",
        "# 모델을 작성\n",
        "X = tf.placeholder(tf.float32, shape=(None, 2))\n",
        "Y = tf.placeholder(tf.float32, shape=(None, 1))\n",
        "\n",
        "W = tf.Variable(tf.random_normal([2, 1]))\n",
        "B = tf.Variable(tf.random_normal([1]))\n",
        "\n",
        "# H = X * W + B\n",
        "H = tf.add(tf.matmul(X, W), B)\n",
        "\n",
        "# \"오차\" 계산\n",
        "# cost = (H - Y)^2\n",
        "\n",
        "cost = tf.square(tf.subtract(H, Y))\n",
        "cost = tf.reduce_mean(cost)\n",
        "optimizer = tf.train.AdamOptimizer(1).minimize(cost)\n",
        "\n",
        "# 학습 & 평가\n",
        "\n",
        "sess = tf.Session()\n",
        "sess.run(tf.global_variables_initializer())\n",
        "\n",
        "for i in range(1000):\n",
        "    sess.run(optimizer, feed_dict={X: x, Y: y})\n",
        "    if i % 100 == 0:\n",
        "      print(sess.run(cost, feed_dict={X: x,  Y: y}))\n",
        "      \n",
        "\n"
      ],
      "execution_count": 20,
      "outputs": [
        {
          "output_type": "stream",
          "text": [
            "13974.534\n",
            "7.13682\n",
            "6.6284966\n",
            "6.5617065\n",
            "6.484552\n",
            "6.3958526\n",
            "6.2965684\n",
            "6.187471\n",
            "6.069121\n",
            "5.942163\n"
          ],
          "name": "stdout"
        }
      ]
    },
    {
      "metadata": {
        "id": "ov8ZD4gpvqFd",
        "colab_type": "code",
        "colab": {
          "base_uri": "https://localhost:8080/",
          "height": 52
        },
        "outputId": "3a8a5337-f3c7-46ca-e775-615f24ad2ffe"
      },
      "cell_type": "code",
      "source": [
        "print(sess.run([W, B]))"
      ],
      "execution_count": 25,
      "outputs": [
        {
          "output_type": "stream",
          "text": [
            "[array([[3.5524116],\n",
            "       [8.480064 ]], dtype=float32), array([0.75263524], dtype=float32)]\n"
          ],
          "name": "stdout"
        }
      ]
    },
    {
      "metadata": {
        "id": "ySi3gSVjv3NM",
        "colab_type": "code",
        "colab": {}
      },
      "cell_type": "code",
      "source": [
        "# 판매예측 = 3.55 *온도 + 8.48*휴일 - 7.25"
      ],
      "execution_count": 0,
      "outputs": []
    },
    {
      "metadata": {
        "id": "SQkuSu6jwKk-",
        "colab_type": "text"
      },
      "cell_type": "markdown",
      "source": [
        "tf.Session / run"
      ]
    },
    {
      "metadata": {
        "id": "AYKr8ZdGwOBV",
        "colab_type": "code",
        "colab": {
          "base_uri": "https://localhost:8080/",
          "height": 34
        },
        "outputId": "829f0e52-6c51-4d72-a73a-85460bf9a9b8"
      },
      "cell_type": "code",
      "source": [
        "# 모델을 만들고\n",
        "x = tf.constant('hellow, tensorflow world')\n",
        "\n",
        "# 모델을 실행합니다.\n",
        "sess = tf.Session()\n",
        "sess.run(x)\n"
      ],
      "execution_count": 28,
      "outputs": [
        {
          "output_type": "execute_result",
          "data": {
            "text/plain": [
              "b'hellow, tensorflow world'"
            ]
          },
          "metadata": {
            "tags": []
          },
          "execution_count": 28
        }
      ]
    },
    {
      "metadata": {
        "id": "fS6VfwFaw0LG",
        "colab_type": "code",
        "colab": {
          "base_uri": "https://localhost:8080/",
          "height": 52
        },
        "outputId": "6295dc1d-3cb4-4c1e-d971-41172ee13745"
      },
      "cell_type": "code",
      "source": [
        "# 모델을 만들고\n",
        "tf.reset_default_graph()   #그래프 초기화\n",
        "\n",
        "x = tf.constant(10.0)\n",
        "w = tf.constant(3.0)\n",
        "b = tf.constant(5.0)\n",
        "\n",
        "# h = x * w +b\n",
        "h = tf.add(tf.multiply(x, w), b)\n",
        "              \n",
        "\n",
        "# 모델을 실행합니다.\n",
        "sess = tf.Session()\n",
        "print(sess.run(h))\n",
        "print(sess.run([h, x, w, b]))"
      ],
      "execution_count": 42,
      "outputs": [
        {
          "output_type": "stream",
          "text": [
            "35.0\n",
            "[35.0, 10.0, 3.0, 5.0]\n"
          ],
          "name": "stdout"
        }
      ]
    },
    {
      "metadata": {
        "id": "aifiU_MJJOXq",
        "colab_type": "code",
        "colab": {
          "base_uri": "https://localhost:8080/",
          "height": 34
        },
        "outputId": "04014007-78fe-48a4-d742-9921440c54fd"
      },
      "cell_type": "code",
      "source": [
        "# 모델을 만들고\n",
        "x = tf.constant(100.0)\n",
        "w = tf.Variable(10.0)\n",
        "\n",
        "#  cost = (x - w)^2\n",
        "cost = tf.square(tf.subtract(x, w))\n",
        "optimizer = tf.train.AdamOptimizer(1).minimize(cost)\n"
      ],
      "execution_count": 76,
      "outputs": [
        {
          "output_type": "stream",
          "text": [
            "<tf.Variable 'Variable_4:0' shape=() dtype=float32_ref>\n"
          ],
          "name": "stdout"
        }
      ]
    },
    {
      "metadata": {
        "id": "3bsMZqZFJNPi",
        "colab_type": "code",
        "colab": {}
      },
      "cell_type": "code",
      "source": [
        "# 모델을 실행합니다.\n",
        "sess = tf.Session()\n",
        "sess.run(tf.global_variables_initializer())\n",
        "\n",
        "\n",
        "# i값이 0 부터 99 까지 반복해주셍\n",
        "for i in range(300):\n",
        "    sess.run(optimizer)\n",
        "    # i값이 10으로 나누어 떨어질 때에만 출력해주세요.\n",
        "    if i % 30 == 0:\n",
        "        print(sess.run(w))\n"
      ],
      "execution_count": 0,
      "outputs": []
    },
    {
      "metadata": {
        "id": "JByVKdg0ye_u",
        "colab_type": "text"
      },
      "cell_type": "markdown",
      "source": [
        "tf.Variable / tf.global_variables_initializer / optimizer"
      ]
    },
    {
      "metadata": {
        "id": "ZHjPnNc9ymxW",
        "colab_type": "code",
        "colab": {
          "base_uri": "https://localhost:8080/",
          "height": 193
        },
        "outputId": "ff4ce402-ac11-421d-9eab-02518ec649da"
      },
      "cell_type": "code",
      "source": [
        "# 모델을 만들고\n",
        "x = tf.constant(100.0)\n",
        "w = tf.Variable(10.0)\n",
        "\n",
        "#  cost = (x - w)^2\n",
        "cost = tf.square(tf.subtract(x, w))\n",
        "optimizer = tf.train.AdamOptimizer(1).minimize(cost)\n",
        "\n",
        "\n",
        "# 모델을 실행합니다.\n",
        "sess = tf.Session()\n",
        "sess.run(tf.global_variables_initializer())\n",
        "\n",
        "\n",
        "# i값이 0 부터 99 까지 반복해주셍\n",
        "for i in range(300):\n",
        "    sess.run(optimizer)\n",
        "    # i값이 10으로 나누어 떨어질 때에만 출력해주세요.\n",
        "    if i % 30 == 0:\n",
        "        print(sess.run(w))\n",
        "\n",
        "\n",
        "\n"
      ],
      "execution_count": 59,
      "outputs": [
        {
          "output_type": "stream",
          "text": [
            "11.0\n",
            "39.92083\n",
            "63.798588\n",
            "80.73137\n",
            "91.09843\n",
            "96.500565\n",
            "98.86045\n",
            "99.70756\n",
            "99.947784\n",
            "99.99656\n"
          ],
          "name": "stdout"
        }
      ]
    },
    {
      "metadata": {
        "id": "MQza5WTU1JHe",
        "colab_type": "text"
      },
      "cell_type": "markdown",
      "source": [
        "## tf.placeholder / feed_dict"
      ]
    },
    {
      "metadata": {
        "id": "Az0PrF0g1Shi",
        "colab_type": "code",
        "colab": {
          "base_uri": "https://localhost:8080/",
          "height": 193
        },
        "outputId": "d0098e8a-0d8b-4452-a9d6-8b7e7cfb487d"
      },
      "cell_type": "code",
      "source": [
        "# 데이터를 준비한다\n",
        "x = 100.0\n",
        "\n",
        "\n",
        "# 모델을 만들고\n",
        "tf.reset_default_graph()\n",
        "\n",
        "X = tf.placeholder(tf.float32, shape=())    # placeholder 변수를 넣어주는 입구 shape 형태로\n",
        "W = tf.Variable(10.0)                         #변하는 변수, 10.0을 찾아가는 변수\n",
        "\n",
        "cost = tf.square(tf.subtract(x, W))\n",
        "optimizer = tf.train.AdamOptimizer(1).minimize(cost)\n",
        "\n",
        "\n",
        "#모델을 실행한다.\n",
        "sess = tf.Session()\n",
        "sess.run(tf.global_variables_initializer())\n",
        "\n",
        "for i in range(100):\n",
        "      sess.run(optimizer, feed_dict={X:x})\n",
        "      if i % 10 == 0 :\n",
        "          print(sess.run([W, cost], feed_dict={X:x}))\n"
      ],
      "execution_count": 73,
      "outputs": [
        {
          "output_type": "stream",
          "text": [
            "[11.0, 7921.0]\n",
            "[20.948132, 6249.1973]\n",
            "[30.65346, 4808.943]\n",
            "[39.92083, 3609.5066]\n",
            "[48.597115, 2642.2566]\n",
            "[56.57741, 1885.5211]\n",
            "[63.798588, 1310.5422]\n",
            "[70.2304, 886.22906]\n",
            "[75.86878, 582.3157]\n",
            "[80.73137, 371.28015]\n"
          ],
          "name": "stdout"
        }
      ]
    },
    {
      "metadata": {
        "id": "koVufqT1JjUL",
        "colab_type": "code",
        "colab": {}
      },
      "cell_type": "code",
      "source": [
        "# 데이터를 준비한다\n",
        "x = 100.0\n",
        "\n",
        "\n",
        "# 모델을 만들고\n",
        "tf.reset_default_graph()\n",
        "\n",
        "X = tf.placeholder(tf.float32, shape=())    # placeholder 변수를 넣어주는 입구 shape 형태로\n",
        "W = tf.Variable(10.0)                         #변하는 변수, 10.0을 찾아가는 변수\n",
        "\n",
        "cost = tf.square(tf.subtract(x, W))\n",
        "optimizer = tf.train.AdamOptimizer(1).minimize(cost)\n",
        "\n"
      ],
      "execution_count": 0,
      "outputs": []
    },
    {
      "metadata": {
        "id": "Re7xRKpKJjJi",
        "colab_type": "code",
        "colab": {
          "base_uri": "https://localhost:8080/",
          "height": 193
        },
        "outputId": "e1c594d9-c9bb-44f4-bbdf-c60d04d27f4f"
      },
      "cell_type": "code",
      "source": [
        "#모델을 실행한다.\n",
        "sess = tf.Session()\n",
        "sess.run(tf.global_variables_initializer())\n",
        "\n",
        "for i in range(100):\n",
        "      sess.run(optimizer, feed_dict={X:x})\n",
        "      if i % 10 == 0 :\n",
        "          print(sess.run([W, cost], feed_dict={X:x}))\n"
      ],
      "execution_count": 80,
      "outputs": [
        {
          "output_type": "stream",
          "text": [
            "[11.0, 7921.0]\n",
            "[20.948132, 6249.1973]\n",
            "[30.65346, 4808.943]\n",
            "[39.92083, 3609.5066]\n",
            "[48.597115, 2642.2566]\n",
            "[56.57741, 1885.5211]\n",
            "[63.798588, 1310.5422]\n",
            "[70.2304, 886.22906]\n",
            "[75.86878, 582.3157]\n",
            "[80.73137, 371.28015]\n"
          ],
          "name": "stdout"
        }
      ]
    },
    {
      "metadata": {
        "id": "ye_afkOlNCuK",
        "colab_type": "text"
      },
      "cell_type": "markdown",
      "source": [
        "shape & matrix"
      ]
    },
    {
      "metadata": {
        "id": "_MxjL0XANBxT",
        "colab_type": "code",
        "colab": {}
      },
      "cell_type": "code",
      "source": [
        "a = [1, 2, 3, 4]\n",
        "b = [[1, 2],\n",
        "     [3, 4],\n",
        "     [5, 6]]\n",
        "    "
      ],
      "execution_count": 0,
      "outputs": []
    },
    {
      "metadata": {
        "id": "gv0i2lxENkxL",
        "colab_type": "code",
        "colab": {}
      },
      "cell_type": "code",
      "source": [
        "sess = tf.Session()"
      ],
      "execution_count": 0,
      "outputs": []
    },
    {
      "metadata": {
        "id": "M3PdjrRINo_T",
        "colab_type": "code",
        "colab": {
          "base_uri": "https://localhost:8080/",
          "height": 34
        },
        "outputId": "b1b318e4-6fe3-404f-cd81-fd26641c908e"
      },
      "cell_type": "code",
      "source": [
        "A = tf.constant(a)\n",
        "print(sess.run(tf.shape(A)))"
      ],
      "execution_count": 86,
      "outputs": [
        {
          "output_type": "stream",
          "text": [
            "[4]\n"
          ],
          "name": "stdout"
        }
      ]
    },
    {
      "metadata": {
        "id": "wmQeKKhFN7nU",
        "colab_type": "code",
        "colab": {
          "base_uri": "https://localhost:8080/",
          "height": 34
        },
        "outputId": "6bc9b3cf-4b96-4d9c-e783-8176fabc72a8"
      },
      "cell_type": "code",
      "source": [
        "B = tf.constant(b)\n",
        "print(sess.run(tf.shape(B)))\n"
      ],
      "execution_count": 87,
      "outputs": [
        {
          "output_type": "stream",
          "text": [
            "[3 2]\n"
          ],
          "name": "stdout"
        }
      ]
    },
    {
      "metadata": {
        "id": "IJkVeGYQOMsr",
        "colab_type": "code",
        "colab": {
          "base_uri": "https://localhost:8080/",
          "height": 34
        },
        "outputId": "a1785524-af2c-4298-db8d-bdf419564fb3"
      },
      "cell_type": "code",
      "source": [
        "C = tf.constant(3)\n",
        "print(sess.run(tf.shape(C)))"
      ],
      "execution_count": 88,
      "outputs": [
        {
          "output_type": "stream",
          "text": [
            "[]\n"
          ],
          "name": "stdout"
        }
      ]
    },
    {
      "metadata": {
        "id": "5FhXnVLpO238",
        "colab_type": "code",
        "colab": {
          "base_uri": "https://localhost:8080/",
          "height": 34
        },
        "outputId": "108d7a41-a774-4acd-d7b5-e4a24496acd1"
      },
      "cell_type": "code",
      "source": [
        "A = tf.constant([1, 2, 3, 4])\n",
        "B = tf.constant(3)\n",
        "\n",
        "C = tf.add(A, B)\n",
        "print(sess.run(C))"
      ],
      "execution_count": 95,
      "outputs": [
        {
          "output_type": "stream",
          "text": [
            "[4 5 6 7]\n"
          ],
          "name": "stdout"
        }
      ]
    },
    {
      "metadata": {
        "id": "aITEyvTVPuV8",
        "colab_type": "code",
        "colab": {
          "base_uri": "https://localhost:8080/",
          "height": 34
        },
        "outputId": "e928f257-4224-4ec9-f0f1-ca5387f2f9c3"
      },
      "cell_type": "code",
      "source": [
        "import numpy as np\n",
        "\n",
        "a = np.array([1, 2, 3, 4])\n",
        "b = 3\n",
        "\n",
        "print(a*b)"
      ],
      "execution_count": 92,
      "outputs": [
        {
          "output_type": "stream",
          "text": [
            "[ 3  6  9 12]\n"
          ],
          "name": "stdout"
        }
      ]
    },
    {
      "metadata": {
        "id": "CkuzsETxP13U",
        "colab_type": "code",
        "colab": {
          "base_uri": "https://localhost:8080/",
          "height": 70
        },
        "outputId": "f7111ae2-47cf-4c24-b697-59af0824dc1d"
      },
      "cell_type": "code",
      "source": [
        "import numpy as np\n",
        "\n",
        "a = np.array([\n",
        "    [1,2],\n",
        "    [3,4],\n",
        "    [5,6]\n",
        "])\n",
        "\n",
        "b = 3\n",
        "\n",
        "print (a*b)"
      ],
      "execution_count": 94,
      "outputs": [
        {
          "output_type": "stream",
          "text": [
            "[[ 3  6]\n",
            " [ 9 12]\n",
            " [15 18]]\n"
          ],
          "name": "stdout"
        }
      ]
    },
    {
      "metadata": {
        "id": "gSShIJ0hU10c",
        "colab_type": "text"
      },
      "cell_type": "markdown",
      "source": [
        "linear regression"
      ]
    },
    {
      "metadata": {
        "id": "oTWzJnyjQEb_",
        "colab_type": "code",
        "colab": {
          "base_uri": "https://localhost:8080/",
          "height": 193
        },
        "outputId": "2d01ac3f-e731-4c12-ff01-bbc9fe3c036a"
      },
      "cell_type": "code",
      "source": [
        "# 데이터를 준비한다. Linear regression : 여러 점들을 가장 잘 설명할 수 있는 선분을 찾는것 -> f(x)\n",
        "x = [\n",
        "    [20.0, 1.0],\n",
        "    [25.0, 0.0],\n",
        "    [23.0, 1.0]\n",
        "]\n",
        "\n",
        "y = [\n",
        "    [100.0],\n",
        "    [90.0],\n",
        "    [120.0]\n",
        "]\n",
        "\n",
        "##############################\n",
        "#모델을 작성한다.\n",
        "import tensorflow as tf\n",
        "tf.reset_default_graph()\n",
        "\n",
        "\n",
        "# 데이터를 받을 곳\n",
        "X = tf.placeholder(tf.float32, shape = (3,2))          # float 뒤 숫자를 16, 8 등으로 줄이면  GPU 메모리의 과부하를 감소시킬수 있다.\n",
        "Y = tf.placeholder(tf.float32, shape = (3,1))          # shape=(None, 1) 이면 입력되는 데이터 매트릭스가 변하는 경우에 처리가능하다\n",
        "\n",
        "# 머신이 할습할 데이터\n",
        "#W = tf.Variable([[1.0],      => 초기 값을 지정해주는 경우\n",
        "#                 [1.0]])\n",
        "#B = tf.Variable ([1.0])\n",
        "W = tf.Variable(tf.random_normal([2,1]))    # 초기값을 랜덤하게 지정해주는 경우지만 그래도 정규분포 기준으로 주어진다라는~~?\n",
        "B = tf.Variable(tf.random_normal([1]))\n",
        "\n",
        "\n",
        "\n",
        "# H = X * W + B\n",
        "H = tf.add(tf.matmul(X, W), B)\n",
        "\n",
        "# 오차 optimizer\n",
        "# cost = (Y - H)^2\n",
        "cost = tf.square(tf.subtract(Y, H))\n",
        "cost = tf.reduce_mean(cost)\n",
        "optimizer = tf.train.AdamOptimizer(0.01).minimize(cost)\n",
        "\n",
        "\n",
        "###############################shape()는 매트릭스 형태를 뜻함.\n",
        "# 모델을 학습시킨다.\n",
        "sess = tf.Session()\n",
        "sess.run(tf.global_variables_initializer())\n",
        "\n",
        "for i in range(1000):\n",
        "      sess.run(optimizer, feed_dict={X:x, Y:y})\n",
        "      if i % 100 == 0 :\n",
        "          print(sess.run(cost, feed_dict={X:x, Y:y}))"
      ],
      "execution_count": 104,
      "outputs": [
        {
          "output_type": "stream",
          "text": [
            "14302.427\n",
            "9278.477\n",
            "5745.338\n",
            "3394.6758\n",
            "1922.8519\n",
            "1062.8484\n",
            "597.3653\n",
            "365.18295\n",
            "258.53232\n",
            "212.98067\n"
          ],
          "name": "stdout"
        }
      ]
    },
    {
      "metadata": {
        "id": "i2Lk4YoAdUBW",
        "colab_type": "code",
        "colab": {
          "base_uri": "https://localhost:8080/",
          "height": 52
        },
        "outputId": "90511e68-e27e-4772-db5d-c2ae9fbf3150"
      },
      "cell_type": "code",
      "source": [
        "sess.run([W, B])"
      ],
      "execution_count": 103,
      "outputs": [
        {
          "output_type": "execute_result",
          "data": {
            "text/plain": [
              "[array([[4.1618586],\n",
              "        [6.0430717]], dtype=float32), array([4.34507], dtype=float32)]"
            ]
          },
          "metadata": {
            "tags": []
          },
          "execution_count": 103
        }
      ]
    },
    {
      "metadata": {
        "id": "qjlGMmnQi_Ni",
        "colab_type": "text"
      },
      "cell_type": "markdown",
      "source": [
        "##Logistic regression##"
      ]
    },
    {
      "metadata": {
        "id": "9IQOCP5Li8NA",
        "colab_type": "code",
        "colab": {}
      },
      "cell_type": "code",
      "source": [
        "x = [\n",
        "    [0.0, 0.0],\n",
        "    [0.0, 1.0],\n",
        "    [1.0, 0.0],\n",
        "    [1.0, 1.0]\n",
        "]\n",
        "\n",
        "y = [\n",
        "    [0.0],\n",
        "    [0.0],\n",
        "    [0.0],\n",
        "    [1.0]\n",
        "]"
      ],
      "execution_count": 0,
      "outputs": []
    },
    {
      "metadata": {
        "id": "_6HD5QkBkxT4",
        "colab_type": "code",
        "colab": {}
      },
      "cell_type": "code",
      "source": [
        "# 모델을 만듭시다.\n",
        "tf.reset_default_graph()\n",
        "\n",
        "X = tf.placeholder(tf.float32, shape=(None, 2))\n",
        "Y = tf.placeholder(tf.float32, shape=(None, 1))\n",
        "\n",
        "W = tf.Variable(tf.random_normal([2,1]))\n",
        "B = tf.Variable(tf.random_normal([1]))\n",
        "\n",
        "# logit = tf.add(tf.matmul(X, W), B)\n",
        "logit = tf.add(tf.matmul(X, W), B)\n",
        "result = tf.nn.sigmoid(logit)\n",
        "\n",
        "cost = tf.nn.sigmoid_cross_entropy_with_logits(logits=logit, labels=Y)\n",
        "cost = tf.reduce_mean(cost)\n",
        "optimizer = tf.train.AdamOptimizer(0.1).minimize(cost)\n",
        "\n"
      ],
      "execution_count": 0,
      "outputs": []
    },
    {
      "metadata": {
        "id": "cJXVucJLl9ZJ",
        "colab_type": "code",
        "colab": {
          "base_uri": "https://localhost:8080/",
          "height": 193
        },
        "outputId": "e13bda4e-fb40-4a4b-b140-aeb2f1de4052"
      },
      "cell_type": "code",
      "source": [
        "sess = tf.Session()\n",
        "sess.run(tf.global_variables_initializer())\n",
        "\n",
        "for i in range(1000):\n",
        "    sess.run(optimizer, feed_dict={X: x, Y: y})\n",
        "    if i % 100 == 0:\n",
        "        c = sess.run(cost, feed_dict={X: x, Y: y})\n",
        "        print(c)\n",
        "        "
      ],
      "execution_count": 130,
      "outputs": [
        {
          "output_type": "stream",
          "text": [
            "0.91524875\n",
            "0.13305297\n",
            "0.05909856\n",
            "0.034037292\n",
            "0.02245118\n",
            "0.016076\n",
            "0.012155983\n",
            "0.009553909\n",
            "0.0077276854\n",
            "0.0063905637\n"
          ],
          "name": "stdout"
        }
      ]
    },
    {
      "metadata": {
        "id": "kzkM1Ft9pZ4x",
        "colab_type": "code",
        "colab": {
          "base_uri": "https://localhost:8080/",
          "height": 52
        },
        "outputId": "a82465c7-e805-413e-b662-0b43186718b4"
      },
      "cell_type": "code",
      "source": [
        "print(sess.run([W, B]))"
      ],
      "execution_count": 131,
      "outputs": [
        {
          "output_type": "stream",
          "text": [
            "[array([[9.809158],\n",
            "       [9.82621 ]], dtype=float32), array([-14.805848], dtype=float32)]\n"
          ],
          "name": "stdout"
        }
      ]
    },
    {
      "metadata": {
        "id": "sBTmWsaLpfjx",
        "colab_type": "code",
        "colab": {
          "base_uri": "https://localhost:8080/",
          "height": 87
        },
        "outputId": "0e572827-cd3f-40e3-c1aa-8eeb1b11f967"
      },
      "cell_type": "code",
      "source": [
        "print(sess.run(result, feed_dict={X:x, Y:y}))"
      ],
      "execution_count": 132,
      "outputs": [
        {
          "output_type": "stream",
          "text": [
            "[[3.7145116e-07]\n",
            " [6.8295868e-03]\n",
            " [6.7148930e-03]\n",
            " [9.9207300e-01]]\n"
          ],
          "name": "stdout"
        }
      ]
    },
    {
      "metadata": {
        "id": "aCF9Afytpurq",
        "colab_type": "code",
        "colab": {}
      },
      "cell_type": "code",
      "source": [
        ""
      ],
      "execution_count": 0,
      "outputs": []
    },
    {
      "metadata": {
        "id": "o9McENSRs-Vi",
        "colab_type": "code",
        "colab": {}
      },
      "cell_type": "code",
      "source": [
        ""
      ],
      "execution_count": 0,
      "outputs": []
    },
    {
      "metadata": {
        "id": "xByxDldRvBrS",
        "colab_type": "text"
      },
      "cell_type": "markdown",
      "source": [
        "##Logistic MNIST\n"
      ]
    },
    {
      "metadata": {
        "id": "-AlIDLafvFgC",
        "colab_type": "code",
        "colab": {}
      },
      "cell_type": "code",
      "source": [
        "import tensorflow as tf"
      ],
      "execution_count": 0,
      "outputs": []
    },
    {
      "metadata": {
        "id": "XhN-YKA9vJoj",
        "colab_type": "code",
        "colab": {
          "base_uri": "https://localhost:8080/",
          "height": 351
        },
        "outputId": "1a994bd5-83b1-40bc-ef03-6227741d6968"
      },
      "cell_type": "code",
      "source": [
        "# 데이터 준비\n",
        "help(tf.keras.datasets.mnist.load_data)\n",
        "(x_train, y_train), (x_test, y_test) = tf.keras.datasets.mnist.load_data()\n"
      ],
      "execution_count": 158,
      "outputs": [
        {
          "output_type": "stream",
          "text": [
            "Help on function load_data in module tensorflow.python.keras.datasets.mnist:\n",
            "\n",
            "load_data(path='mnist.npz')\n",
            "    Loads the MNIST dataset.\n",
            "    \n",
            "    Arguments:\n",
            "        path: path where to cache the dataset locally\n",
            "            (relative to ~/.keras/datasets).\n",
            "    \n",
            "    Returns:\n",
            "        Tuple of Numpy arrays: `(x_train, y_train), (x_test, y_test)`.\n",
            "    \n",
            "    License:\n",
            "        Yann LeCun and Corinna Cortes hold the copyright of MNIST dataset,\n",
            "        which is a derivative work from original NIST datasets.\n",
            "        MNIST dataset is made available under the terms of the\n",
            "        [Creative Commons Attribution-Share Alike 3.0 license.](\n",
            "        https://creativecommons.org/licenses/by-sa/3.0/)\n",
            "\n"
          ],
          "name": "stdout"
        }
      ]
    },
    {
      "metadata": {
        "id": "0maJwiQ0vgYa",
        "colab_type": "code",
        "colab": {
          "base_uri": "https://localhost:8080/",
          "height": 52
        },
        "outputId": "25d09f7f-5fb2-4753-b83e-fbeb10d32a17"
      },
      "cell_type": "code",
      "source": [
        "print(x_train.shape, x_test.shape)\n",
        "print(y_train.shape, y_test.shape)"
      ],
      "execution_count": 175,
      "outputs": [
        {
          "output_type": "stream",
          "text": [
            "(60000, 784) (10000, 784)\n",
            "(60000, 10) (10000, 10)\n"
          ],
          "name": "stdout"
        }
      ]
    },
    {
      "metadata": {
        "id": "irhhO5SDvorL",
        "colab_type": "code",
        "colab": {
          "base_uri": "https://localhost:8080/",
          "height": 239
        },
        "outputId": "8d94acb2-1fa7-4a3e-ba96-3db40e040c55"
      },
      "cell_type": "code",
      "source": [
        "import numpy as np\n",
        "\n",
        "x_train = x_train.reshape(-1, 28*28)\n",
        "x_test = x_test.reshape(-1, 28*28)\n",
        "\n",
        "\n",
        "y_train = np.eye(10)[y_train]\n",
        "y_test = np.eye(10)[y_test]\n",
        "\n",
        "#One-hot encoding, dummy variable\n",
        "y_train = np,eye(10)[y_train]\n",
        "\n",
        "print(x_train.shape, x_test.shape)\n",
        "print(y_train.shape, y_test.shape)"
      ],
      "execution_count": 163,
      "outputs": [
        {
          "output_type": "error",
          "ename": "IndexError",
          "evalue": "ignored",
          "traceback": [
            "\u001b[0;31m---------------------------------------------------------------------------\u001b[0m",
            "\u001b[0;31mIndexError\u001b[0m                                Traceback (most recent call last)",
            "\u001b[0;32m<ipython-input-163-0d5e154e9d13>\u001b[0m in \u001b[0;36m<module>\u001b[0;34m()\u001b[0m\n\u001b[1;32m      5\u001b[0m \u001b[0;34m\u001b[0m\u001b[0m\n\u001b[1;32m      6\u001b[0m \u001b[0;34m\u001b[0m\u001b[0m\n\u001b[0;32m----> 7\u001b[0;31m \u001b[0my_train\u001b[0m \u001b[0;34m=\u001b[0m \u001b[0mnp\u001b[0m\u001b[0;34m.\u001b[0m\u001b[0meye\u001b[0m\u001b[0;34m(\u001b[0m\u001b[0;36m10\u001b[0m\u001b[0;34m)\u001b[0m\u001b[0;34m[\u001b[0m\u001b[0my_train\u001b[0m\u001b[0;34m]\u001b[0m\u001b[0;34m\u001b[0m\u001b[0;34m\u001b[0m\u001b[0m\n\u001b[0m\u001b[1;32m      8\u001b[0m \u001b[0my_test\u001b[0m \u001b[0;34m=\u001b[0m \u001b[0mnp\u001b[0m\u001b[0;34m.\u001b[0m\u001b[0meye\u001b[0m\u001b[0;34m(\u001b[0m\u001b[0;36m10\u001b[0m\u001b[0;34m)\u001b[0m\u001b[0;34m[\u001b[0m\u001b[0my_test\u001b[0m\u001b[0;34m]\u001b[0m\u001b[0;34m\u001b[0m\u001b[0;34m\u001b[0m\u001b[0m\n\u001b[1;32m      9\u001b[0m \u001b[0;34m\u001b[0m\u001b[0m\n",
            "\u001b[0;31mIndexError\u001b[0m: arrays used as indices must be of integer (or boolean) type"
          ]
        }
      ]
    },
    {
      "metadata": {
        "id": "mgyDIu8-1LyD",
        "colab_type": "code",
        "colab": {}
      },
      "cell_type": "code",
      "source": [
        "\n",
        "#모델 만들기\n",
        "tf.reset_default_graph()\n",
        "\n",
        "X = tf.placeholder(tf.float32, shape=(None, 784))\n",
        "Y = tf.placeholder(tf.float32, shape=(None, 10))\n",
        "\n",
        "W = tf.Variable(tf.random_normal([784, 10]))\n",
        "B = tf.Variable(tf.random_normal([10]))\n",
        "\n",
        "#logit = X*W+B\n",
        "logit = tf.add(tf.matmul(X, W),B)\n",
        "\n",
        "h = tf.nn.sigmoid(logit)\n",
        "\n",
        "cost = tf.nn.sigmoid_cross_entropy_with_logits(logits=logit, labels=Y)\n",
        "cost = tf.reduce_mean(cost)\n",
        "optimizer = tf.train.AdamOptimizer(0.01).minimize(cost)\n",
        "\n",
        "                  \n",
        "\n"
      ],
      "execution_count": 0,
      "outputs": []
    },
    {
      "metadata": {
        "id": "GAewBnGz2ecD",
        "colab_type": "code",
        "colab": {
          "base_uri": "https://localhost:8080/",
          "height": 193
        },
        "outputId": "604c5e51-1db6-4b78-f037-1e24dbe11b96"
      },
      "cell_type": "code",
      "source": [
        "sess = tf.Session()\n",
        "sess.run(tf.global_variables_initializer())\n",
        "\n",
        "for i in range(100):\n",
        "    sess.run(optimizer, feed_dict={X:x_train, Y:y_train})\n",
        "    if i % 10 == 0 :\n",
        "        print(sess.run(cost, feed_dict={X:x_train, Y:y_train}))"
      ],
      "execution_count": 174,
      "outputs": [
        {
          "output_type": "stream",
          "text": [
            "714.9529\n",
            "251.65019\n",
            "208.66139\n",
            "171.29309\n",
            "136.27167\n",
            "115.55555\n",
            "100.80653\n",
            "89.61118\n",
            "80.80751\n",
            "73.74788\n"
          ],
          "name": "stdout"
        }
      ]
    },
    {
      "metadata": {
        "id": "XG33XFGR3Rdc",
        "colab_type": "code",
        "colab": {}
      },
      "cell_type": "code",
      "source": [
        ""
      ],
      "execution_count": 0,
      "outputs": []
    }
  ]
}