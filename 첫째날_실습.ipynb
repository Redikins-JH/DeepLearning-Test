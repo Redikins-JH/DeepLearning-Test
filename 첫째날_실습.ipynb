{
  "nbformat": 4,
  "nbformat_minor": 0,
  "metadata": {
    "colab": {
      "name": "첫째날 실습",
      "version": "0.3.2",
      "provenance": [],
      "include_colab_link": true
    },
    "kernelspec": {
      "name": "python3",
      "display_name": "Python 3"
    }
  },
  "cells": [
    {
      "cell_type": "markdown",
      "metadata": {
        "id": "view-in-github",
        "colab_type": "text"
      },
      "source": [
        "<a href=\"https://colab.research.google.com/github/Seedplant/React-Test/blob/master/%EC%B2%AB%EC%A7%B8%EB%82%A0_%EC%8B%A4%EC%8A%B5.ipynb\" target=\"_parent\"><img src=\"https://colab.research.google.com/assets/colab-badge.svg\" alt=\"Open In Colab\"/></a>"
      ]
    },
    {
      "metadata": {
        "id": "iILrThMPl38r",
        "colab_type": "text"
      },
      "cell_type": "markdown",
      "source": [
        "**정종학 첫째날 작성코드**"
      ]
    },
    {
      "metadata": {
        "id": "H-7P8COxhqz3",
        "colab_type": "code",
        "colab": {
          "base_uri": "https://localhost:8080/",
          "height": 34
        },
        "outputId": "06bc8cc9-8cc5-4cf1-841c-976567f74167"
      },
      "cell_type": "code",
      "source": [
        "print(\"hello world\")"
      ],
      "execution_count": 1,
      "outputs": [
        {
          "output_type": "stream",
          "text": [
            "hello world\n"
          ],
          "name": "stdout"
        }
      ]
    },
    {
      "metadata": {
        "id": "wYAcN0f1irUK",
        "colab_type": "code",
        "colab": {}
      },
      "cell_type": "code",
      "source": [
        "import tensorflow as tf"
      ],
      "execution_count": 0,
      "outputs": []
    },
    {
      "metadata": {
        "colab_type": "code",
        "id": "N64VhXmkq8-e",
        "colab": {
          "base_uri": "https://localhost:8080/",
          "height": 193
        },
        "outputId": "3c151c95-906d-4a89-82de-a53b53d50b0a"
      },
      "cell_type": "code",
      "source": [
        "###리니어 리그레이션 모델###\n",
        "\n",
        "# 데이터 준비\n",
        "x = [\n",
        "    [25.0, 1.0],\n",
        "    [28.0, 0.0],\n",
        "    [23.0, 1.0]\n",
        "]\n",
        "\n",
        "y = [\n",
        "    [101.0],\n",
        "    [100.0],\n",
        "    [88.0]\n",
        "]\n",
        "# 모델을 작성\n",
        "X = tf.placeholder(tf.float32, shape=(None, 2))\n",
        "Y = tf.placeholder(tf.float32, shape=(None, 1))\n",
        "\n",
        "W = tf.Variable(tf.random_normal([2, 1]))\n",
        "B = tf.Variable(tf.random_normal([1]))\n",
        "\n",
        "# H = X * W + B\n",
        "H = tf.add(tf.matmul(X, W), B)\n",
        "\n",
        "# \"오차\" 계산\n",
        "# cost = (H - Y)^2\n",
        "\n",
        "cost = tf.square(tf.subtract(H, Y))\n",
        "cost = tf.reduce_mean(cost)\n",
        "optimizer = tf.train.AdamOptimizer(1).minimize(cost)\n",
        "\n",
        "# 학습 & 평가\n",
        "\n",
        "sess = tf.Session()\n",
        "sess.run(tf.global_variables_initializer())\n",
        "\n",
        "for i in range(1000):\n",
        "    sess.run(optimizer, feed_dict={X: x, Y: y})\n",
        "    if i % 100 == 0:\n",
        "      print(sess.run(cost, feed_dict={X: x,  Y: y}))\n",
        "      \n",
        "\n"
      ],
      "execution_count": 20,
      "outputs": [
        {
          "output_type": "stream",
          "text": [
            "13974.534\n",
            "7.13682\n",
            "6.6284966\n",
            "6.5617065\n",
            "6.484552\n",
            "6.3958526\n",
            "6.2965684\n",
            "6.187471\n",
            "6.069121\n",
            "5.942163\n"
          ],
          "name": "stdout"
        }
      ]
    },
    {
      "metadata": {
        "id": "ov8ZD4gpvqFd",
        "colab_type": "code",
        "colab": {
          "base_uri": "https://localhost:8080/",
          "height": 52
        },
        "outputId": "3a8a5337-f3c7-46ca-e775-615f24ad2ffe"
      },
      "cell_type": "code",
      "source": [
        "print(sess.run([W, B]))"
      ],
      "execution_count": 25,
      "outputs": [
        {
          "output_type": "stream",
          "text": [
            "[array([[3.5524116],\n",
            "       [8.480064 ]], dtype=float32), array([0.75263524], dtype=float32)]\n"
          ],
          "name": "stdout"
        }
      ]
    },
    {
      "metadata": {
        "id": "ySi3gSVjv3NM",
        "colab_type": "code",
        "colab": {}
      },
      "cell_type": "code",
      "source": [
        "# 판매예측 = 3.55 *온도 + 8.48*휴일 - 7.25"
      ],
      "execution_count": 0,
      "outputs": []
    },
    {
      "metadata": {
        "id": "SQkuSu6jwKk-",
        "colab_type": "text"
      },
      "cell_type": "markdown",
      "source": [
        "tf.Session / run"
      ]
    },
    {
      "metadata": {
        "id": "AYKr8ZdGwOBV",
        "colab_type": "code",
        "colab": {
          "base_uri": "https://localhost:8080/",
          "height": 34
        },
        "outputId": "829f0e52-6c51-4d72-a73a-85460bf9a9b8"
      },
      "cell_type": "code",
      "source": [
        "# 모델을 만들고\n",
        "x = tf.constant('hellow, tensorflow world')\n",
        "\n",
        "# 모델을 실행합니다.\n",
        "sess = tf.Session()\n",
        "sess.run(x)\n"
      ],
      "execution_count": 28,
      "outputs": [
        {
          "output_type": "execute_result",
          "data": {
            "text/plain": [
              "b'hellow, tensorflow world'"
            ]
          },
          "metadata": {
            "tags": []
          },
          "execution_count": 28
        }
      ]
    },
    {
      "metadata": {
        "id": "fS6VfwFaw0LG",
        "colab_type": "code",
        "colab": {
          "base_uri": "https://localhost:8080/",
          "height": 52
        },
        "outputId": "6295dc1d-3cb4-4c1e-d971-41172ee13745"
      },
      "cell_type": "code",
      "source": [
        "# 모델을 만들고\n",
        "tf.reset_default_graph()   #그래프 초기화\n",
        "\n",
        "x = tf.constant(10.0)\n",
        "w = tf.constant(3.0)\n",
        "b = tf.constant(5.0)\n",
        "\n",
        "# h = x * w +b\n",
        "h = tf.add(tf.multiply(x, w), b)\n",
        "              \n",
        "\n",
        "# 모델을 실행합니다.\n",
        "sess = tf.Session()\n",
        "print(sess.run(h))\n",
        "print(sess.run([h, x, w, b]))"
      ],
      "execution_count": 42,
      "outputs": [
        {
          "output_type": "stream",
          "text": [
            "35.0\n",
            "[35.0, 10.0, 3.0, 5.0]\n"
          ],
          "name": "stdout"
        }
      ]
    },
    {
      "metadata": {
        "id": "JByVKdg0ye_u",
        "colab_type": "text"
      },
      "cell_type": "markdown",
      "source": [
        "tf.Variable / tf.global_variables_initializer / optimizer"
      ]
    },
    {
      "metadata": {
        "id": "ZHjPnNc9ymxW",
        "colab_type": "code",
        "colab": {
          "base_uri": "https://localhost:8080/",
          "height": 193
        },
        "outputId": "ff4ce402-ac11-421d-9eab-02518ec649da"
      },
      "cell_type": "code",
      "source": [
        "# 모델을 만들고\n",
        "x = tf.constant(100.0)\n",
        "w = tf.Variable(10.0)\n",
        "\n",
        "#  cost = (x - w)^2\n",
        "cost = tf.square(tf.subtract(x, w))\n",
        "optimizer = tf.train.AdamOptimizer(1).minimize(cost)\n",
        "\n",
        "\n",
        "# 모델을 실행합니다.\n",
        "sess = tf.Session()\n",
        "sess.run(tf.global_variables_initializer())\n",
        "\n",
        "\n",
        "# i값이 0 부터 99 까지 반복해주셍\n",
        "for i in range(300):\n",
        "    sess.run(optimizer)\n",
        "    # i값이 10으로 나누어 떨어질 때에만 출력해주세요.\n",
        "    if i % 30 == 0:\n",
        "        print(sess.run(w))\n",
        "\n",
        "\n",
        "\n"
      ],
      "execution_count": 59,
      "outputs": [
        {
          "output_type": "stream",
          "text": [
            "11.0\n",
            "39.92083\n",
            "63.798588\n",
            "80.73137\n",
            "91.09843\n",
            "96.500565\n",
            "98.86045\n",
            "99.70756\n",
            "99.947784\n",
            "99.99656\n"
          ],
          "name": "stdout"
        }
      ]
    },
    {
      "metadata": {
        "id": "MQza5WTU1JHe",
        "colab_type": "text"
      },
      "cell_type": "markdown",
      "source": [
        "## tf.placeholder / feed_dict"
      ]
    },
    {
      "metadata": {
        "id": "Az0PrF0g1Shi",
        "colab_type": "code",
        "colab": {}
      },
      "cell_type": "code",
      "source": [
        "# 데이터를 준비한다\n",
        "x = 100.0\n",
        "\n",
        "\n",
        "# 모델을 만들고\n",
        "tf.reset_default_graph()\n",
        "\n",
        "X = tf.placeholder(tf.float32, shape=())    # placeholder 변수를 넣어주는 입구 shape 형태로\n",
        "W = tf.Variable(10.0)                         #변하는 변수, 10.0을 찾아가는 변수\n",
        "\n",
        "cost = tf.square(tf.subtract(x, W))\n",
        "optimizer = tf.train.AdamOptimizer(1).minimize(cost)\n",
        "\n",
        "\n",
        "#모델을 실행한다.\n",
        "sess = tf.Session()\n",
        "sess.run(tf.global_variables_initializer())\n",
        "\n",
        "for i in range(100):\n",
        "      sess.run(optimizer, feed_dict={X:x})\n"
      ],
      "execution_count": 0,
      "outputs": []
    }
  ]
}