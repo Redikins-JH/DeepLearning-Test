{
  "nbformat": 4,
  "nbformat_minor": 0,
  "metadata": {
    "colab": {
      "name": "둘째날 실습",
      "version": "0.3.2",
      "provenance": [],
      "include_colab_link": true
    },
    "kernelspec": {
      "name": "python3",
      "display_name": "Python 3"
    }
  },
  "cells": [
    {
      "cell_type": "markdown",
      "metadata": {
        "id": "view-in-github",
        "colab_type": "text"
      },
      "source": [
        "<a href=\"https://colab.research.google.com/github/Seedplant/React-Test/blob/master/%EB%91%98%EC%A7%B8%EB%82%A0_%EC%8B%A4%EC%8A%B5.ipynb\" target=\"_parent\"><img src=\"https://colab.research.google.com/assets/colab-badge.svg\" alt=\"Open In Colab\"/></a>"
      ]
    },
    {
      "metadata": {
        "id": "ogNVePBEqzgV",
        "colab_type": "code",
        "colab": {}
      },
      "cell_type": "code",
      "source": [
        "# 데이터를 준비하고\n",
        "x = [\n",
        "    [0.0, 0.0],\n",
        "    [0.0, 1.0],\n",
        "    [1.0, 0.0],\n",
        "    [1.0, 1.0]\n",
        "]\n",
        "y = [\n",
        "    [0.0],\n",
        "    [1.0],\n",
        "    [1.0],\n",
        "    [0.0]\n",
        "]\n"
      ],
      "execution_count": 0,
      "outputs": []
    },
    {
      "metadata": {
        "id": "2yujvO9jr1QM",
        "colab_type": "code",
        "colab": {}
      },
      "cell_type": "code",
      "source": [
        "import tensorflow as tf\n",
        "\n",
        "# 모델을 만들고\n",
        "tf.reset_default_graph()\n",
        "\n",
        "X = tf.placeholder(tf.float32, shape=(None, 2))\n",
        "Y = tf.placeholder(tf.float32, shape=(None, 1))\n",
        "\n",
        "\n",
        "# layer 1\n",
        "W1 = tf. Variable(tf.random_normal([2, 2]))\n",
        "B1 = tf. Variable(tf.random_normal([2]))\n",
        "\n",
        "# H = X * W + B\n",
        "H1 = tf.add(tf.matmul(X, W1), B1)\n",
        "H1 = tf.nn.sigmoid(H1)  #Activation function\n",
        "\n",
        "# layer 2\n",
        "W2 = tf. Variable(tf.random_normal([2, 1]))\n",
        "B2 = tf. Variable(tf.random_normal([1]))\n",
        "\n",
        "H2 = tf.add(tf.matmul(H1, W2), B2)\n",
        "\n",
        "\n",
        "\n",
        "\n",
        "\n",
        "# cost를 정의합니다.\n",
        "\n",
        "cost = tf.nn.sigmoid_cross_entropy_with_logits(logits = H2, labels=Y)\n",
        "cost = tf.reduce_mean(cost)\n",
        "optimizer = tf.train.AdamOptimizer(0.01).minimize(cost)\n",
        "\n",
        "pred = tf.nn.sigmoid(H2)\n",
        "\n"
      ],
      "execution_count": 0,
      "outputs": []
    },
    {
      "metadata": {
        "id": "SxIQP2i6s7V0",
        "colab_type": "code",
        "colab": {
          "base_uri": "https://localhost:8080/",
          "height": 193
        },
        "outputId": "7dd61c92-c714-494b-854a-0fe5692e0d5a"
      },
      "cell_type": "code",
      "source": [
        "# 모델을 합습 / 평가합니다.\n",
        "sess = tf.Session()\n",
        "sess.run(tf.global_variables_initializer())\n",
        "\n",
        "for i in range(1000):\n",
        "    sess.run(optimizer, feed_dict={X: x, Y: y})\n",
        "    if i % 100 == 0:\n",
        "        c = sess.run(cost, feed_dict={X :x, Y:y})\n",
        "        print(c)"
      ],
      "execution_count": 53,
      "outputs": [
        {
          "output_type": "stream",
          "text": [
            "0.8509004\n",
            "0.6936919\n",
            "0.67453384\n",
            "0.62696993\n",
            "0.57943463\n",
            "0.5379302\n",
            "0.33944792\n",
            "0.17144285\n",
            "0.10886012\n",
            "0.07794199\n"
          ],
          "name": "stdout"
        }
      ]
    },
    {
      "metadata": {
        "id": "-CiH3F5nuh-N",
        "colab_type": "code",
        "colab": {
          "base_uri": "https://localhost:8080/",
          "height": 87
        },
        "outputId": "9c6776cf-4293-4f74-e504-2af161ef3eda"
      },
      "cell_type": "code",
      "source": [
        "p = sess.run(pred, feed_dict={X: x})\n",
        "print(p)"
      ],
      "execution_count": 54,
      "outputs": [
        {
          "output_type": "stream",
          "text": [
            "[[0.05161583]\n",
            " [0.93985194]\n",
            " [0.9313328 ]\n",
            " [0.0514553 ]]\n"
          ],
          "name": "stdout"
        }
      ]
    },
    {
      "metadata": {
        "id": "o7OFAJUK-kkK",
        "colab_type": "text"
      },
      "cell_type": "markdown",
      "source": [
        "##ANN MNIST"
      ]
    },
    {
      "metadata": {
        "id": "g0HDv1Pv-PP3",
        "colab_type": "code",
        "colab": {
          "base_uri": "https://localhost:8080/",
          "height": 70
        },
        "outputId": "acba9d76-d539-4bf1-923d-5b37aaadc8a6"
      },
      "cell_type": "code",
      "source": [
        "import tensorflow as tf\n",
        "import numpy as np\n",
        "\n",
        "#데이터 준비\n",
        "#help(tf.keras.datasets.mnist.load_data)\n",
        "(x_train, y_train), (x_test, y_test) = tf.keras.datasets.mnist.load_data()\n",
        "\n",
        "print(x_train.shape, x_test.shape)\n",
        "\n",
        "#reshape\n",
        "\n",
        "x_train = x_train.reshape(-1, 28*28)\n",
        "x_test = x_test.reshape(-1, 784)\n",
        "\n",
        "#one hot-encoding\n",
        "y_train = np.eye(10)[y_train]\n",
        "y_test = np.eye(10)[y_test]\n",
        "\n",
        "print(x_train.shape, x_test.shape)\n",
        "print(y_train.shape, y_test.shape)\n",
        "                    \n",
        "                    \n"
      ],
      "execution_count": 59,
      "outputs": [
        {
          "output_type": "stream",
          "text": [
            "(60000, 28, 28) (10000, 28, 28)\n",
            "(60000, 784) (10000, 784)\n",
            "(60000, 10) (10000, 10)\n"
          ],
          "name": "stdout"
        }
      ]
    },
    {
      "metadata": {
        "id": "WrbLAACL_bBY",
        "colab_type": "code",
        "colab": {}
      },
      "cell_type": "code",
      "source": [
        "# 모델을 만들어 봅시다.\n",
        "\n",
        "X = tf.placeholder(tf.float32, shape=(None, 784))\n",
        "Y = tf.placeholder(tf.float32, shape=(None, 10))\n",
        "\n",
        "# layer1\n",
        "W1 = tf.Variable(tf.random_normal([784, 128]))\n",
        "B1 = tf.Variable(tf.random_normal([128]))\n",
        "H1 = tf.add(tf.matmul(X, W1),B1)\n",
        "H1 = tf.nn.relu(H1)  #Activate\n",
        "\n",
        "# layer2\n",
        "W2 = tf.Variable(tf.random_normal([128, 10]))\n",
        "B2 = tf.Variable(tf.random_normal([10]))\n",
        "H2 = tf.add(tf.matmul(H1, W2),B2)\n",
        "\n",
        "\n",
        "#cost\n",
        "cost = tf.nn.softmax_cross_entropy_with_logits_v2(logits=H2, labels=Y)\n",
        "cost = tf.reduce_mean(cost)\n",
        "optimizer = tf.train.AdamOptimizer(0.01).minimize(cost)\n",
        "\n",
        "pred = tf.nn.softmax(H2)"
      ],
      "execution_count": 0,
      "outputs": []
    }
  ]
}