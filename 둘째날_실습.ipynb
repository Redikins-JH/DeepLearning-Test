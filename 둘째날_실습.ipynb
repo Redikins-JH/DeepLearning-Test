{
  "nbformat": 4,
  "nbformat_minor": 0,
  "metadata": {
    "colab": {
      "name": "둘째날 실습",
      "version": "0.3.2",
      "provenance": [],
      "include_colab_link": true
    },
    "kernelspec": {
      "name": "python3",
      "display_name": "Python 3"
    },
    "accelerator": "GPU"
  },
  "cells": [
    {
      "cell_type": "markdown",
      "metadata": {
        "id": "view-in-github",
        "colab_type": "text"
      },
      "source": [
        "<a href=\"https://colab.research.google.com/github/Seedplant/React-Test/blob/master/%EB%91%98%EC%A7%B8%EB%82%A0_%EC%8B%A4%EC%8A%B5.ipynb\" target=\"_parent\"><img src=\"https://colab.research.google.com/assets/colab-badge.svg\" alt=\"Open In Colab\"/></a>"
      ]
    },
    {
      "metadata": {
        "id": "ogNVePBEqzgV",
        "colab_type": "code",
        "colab": {}
      },
      "cell_type": "code",
      "source": [
        "# 데이터를 준비하고\n",
        "x = [\n",
        "    [0.0, 0.0],\n",
        "    [0.0, 1.0],\n",
        "    [1.0, 0.0],\n",
        "    [1.0, 1.0]\n",
        "]\n",
        "y = [\n",
        "    [0.0],\n",
        "    [1.0],\n",
        "    [1.0],\n",
        "    [0.0]\n",
        "]\n"
      ],
      "execution_count": 0,
      "outputs": []
    },
    {
      "metadata": {
        "id": "2yujvO9jr1QM",
        "colab_type": "code",
        "colab": {}
      },
      "cell_type": "code",
      "source": [
        "import tensorflow as tf\n",
        "\n",
        "# 모델을 만들고\n",
        "tf.reset_default_graph()\n",
        "\n",
        "X = tf.placeholder(tf.float32, shape=(None, 2))\n",
        "Y = tf.placeholder(tf.float32, shape=(None, 1))\n",
        "\n",
        "\n",
        "# layer 1\n",
        "W1 = tf. Variable(tf.random_normal([2, 2]))\n",
        "B1 = tf. Variable(tf.random_normal([2]))\n",
        "\n",
        "# H = X * W + B\n",
        "H1 = tf.add(tf.matmul(X, W1), B1)\n",
        "H1 = tf.nn.sigmoid(H1)  #Activation function\n",
        "\n",
        "# layer 2\n",
        "W2 = tf. Variable(tf.random_normal([2, 1]))\n",
        "B2 = tf. Variable(tf.random_normal([1]))\n",
        "\n",
        "H2 = tf.add(tf.matmul(H1, W2), B2)\n",
        "\n",
        "\n",
        "\n",
        "\n",
        "\n",
        "# cost를 정의합니다.\n",
        "\n",
        "cost = tf.nn.sigmoid_cross_entropy_with_logits(logits = H2, labels=Y)\n",
        "cost = tf.reduce_mean(cost)\n",
        "optimizer = tf.train.AdamOptimizer(0.01).minimize(cost)\n",
        "\n",
        "pred = tf.nn.sigmoid(H2)\n",
        "\n"
      ],
      "execution_count": 0,
      "outputs": []
    },
    {
      "metadata": {
        "id": "SxIQP2i6s7V0",
        "colab_type": "code",
        "colab": {
          "base_uri": "https://localhost:8080/",
          "height": 193
        },
        "outputId": "90b91954-d6c5-423b-f8a6-0425d4c4a1e5"
      },
      "cell_type": "code",
      "source": [
        "# 모델을 합습 / 평가합니다.\n",
        "sess = tf.Session()\n",
        "sess.run(tf.global_variables_initializer())\n",
        "\n",
        "for i in range(1000):\n",
        "    sess.run(optimizer, feed_dict={X: x, Y: y})\n",
        "    if i % 100 == 0:\n",
        "        c = sess.run(cost, feed_dict={X :x, Y:y})\n",
        "        print(c)"
      ],
      "execution_count": 6,
      "outputs": [
        {
          "output_type": "stream",
          "text": [
            "1.3022412\n",
            "0.68452203\n",
            "0.63484377\n",
            "0.6016656\n",
            "0.5754392\n",
            "0.55515105\n",
            "0.5395061\n",
            "0.52751803\n",
            "0.5183391\n",
            "0.5112703\n"
          ],
          "name": "stdout"
        }
      ]
    },
    {
      "metadata": {
        "id": "-CiH3F5nuh-N",
        "colab_type": "code",
        "colab": {
          "base_uri": "https://localhost:8080/",
          "height": 87
        },
        "outputId": "fcef78df-51f3-451d-e8c4-5bd7e6f72006"
      },
      "cell_type": "code",
      "source": [
        "p = sess.run(pred, feed_dict={X: x})\n",
        "print(p)"
      ],
      "execution_count": 72,
      "outputs": [
        {
          "output_type": "stream",
          "text": [
            "[[0.09915867]\n",
            " [0.8414414 ]\n",
            " [0.86929095]\n",
            " [0.08537678]]\n"
          ],
          "name": "stdout"
        }
      ]
    },
    {
      "metadata": {
        "id": "o7OFAJUK-kkK",
        "colab_type": "text"
      },
      "cell_type": "markdown",
      "source": [
        "##ANN MNIST"
      ]
    },
    {
      "metadata": {
        "id": "g0HDv1Pv-PP3",
        "colab_type": "code",
        "colab": {
          "base_uri": "https://localhost:8080/",
          "height": 70
        },
        "outputId": "c31185ac-c03e-4cf5-d1ad-af5d904580cf"
      },
      "cell_type": "code",
      "source": [
        "import tensorflow as tf\n",
        "import numpy as np\n",
        "\n",
        "#데이터 준비\n",
        "#help(tf.keras.datasets.mnist.load_data)\n",
        "(x_train, y_train), (x_test, y_test) = tf.keras.datasets.mnist.load_data()\n",
        "\n",
        "print(x_train.shape, x_test.shape)\n",
        "\n",
        "#reshape\n",
        "\n",
        "x_train = x_train.reshape(-1, 28*28)\n",
        "x_test = x_test.reshape(-1, 784)\n",
        "\n",
        "#one hot-encoding\n",
        "y_train = np.eye(10)[y_train]\n",
        "y_test = np.eye(10)[y_test]\n",
        "\n",
        "print(x_train.shape, x_test.shape)\n",
        "print(y_train.shape, y_test.shape)\n",
        "                    \n",
        "                    \n"
      ],
      "execution_count": 7,
      "outputs": [
        {
          "output_type": "stream",
          "text": [
            "(60000, 28, 28) (10000, 28, 28)\n",
            "(60000, 784) (10000, 784)\n",
            "(60000, 10) (10000, 10)\n"
          ],
          "name": "stdout"
        }
      ]
    },
    {
      "metadata": {
        "id": "WrbLAACL_bBY",
        "colab_type": "code",
        "colab": {}
      },
      "cell_type": "code",
      "source": [
        "tf.reset_default_graph()\n",
        "# 모델을 만들어 봅시다.\n",
        "\n",
        "X = tf.placeholder(tf.float32, shape=(None, 784))\n",
        "Y = tf.placeholder(tf.float32, shape=(None, 10))\n",
        "\n",
        "# layer1\n",
        "W1 = tf.Variable(tf.random_normal([784, 256]))\n",
        "B1 = tf.Variable(tf.random_normal([256]))\n",
        "H1 = tf.add(tf.matmul(X, W1),B1)\n",
        "H1 = tf.nn.relu(H1)  #Activate\n",
        "\n",
        "# layer2\n",
        "W2 = tf.Variable(tf.random_normal([256, 128]))\n",
        "B2 = tf.Variable(tf.random_normal([128]))\n",
        "H2 = tf.add(tf.matmul(H1, W2),B2)\n",
        "\n",
        "\n",
        "# layer3\n",
        "W3 = tf.Variable(tf.random_normal([128, 10]))\n",
        "B3 = tf.Variable(tf.random_normal([10]))\n",
        "H3 = tf.add(tf.matmul(H2, W3),B3)\n",
        "\n",
        "\n",
        "#cost\n",
        "cost = tf.nn.softmax_cross_entropy_with_logits_v2(logits=H3, labels=Y)\n",
        "cost = tf.reduce_mean(cost)\n",
        "optimizer = tf.train.AdamOptimizer(0.01).minimize(cost)\n",
        "\n",
        "pred = tf.nn.softmax(H3)\n"
      ],
      "execution_count": 0,
      "outputs": []
    },
    {
      "metadata": {
        "id": "zELehhUFWOzs",
        "colab_type": "text"
      },
      "cell_type": "markdown",
      "source": [
        "##accuracy"
      ]
    },
    {
      "metadata": {
        "id": "YG2QAaTlWRM9",
        "colab_type": "code",
        "colab": {}
      },
      "cell_type": "code",
      "source": [
        "#예측한 결과 (pred)와 실제 정답(Y)가 같은지 비교하고\n",
        "acc = tf.equal(tf.argmax(pred,1), tf.argmax(Y,1))     #(?, 1)에서 1은 차원을 뜻함  0은 X방향, 1은 Y방향으 뜻함\n",
        "\n",
        "#같은것의 갯수는 전체 갯수에서 몇 %인지 확인.\n",
        "acc = tf.reduce_mean(tf.cast(acc, tf.float32))      #cast는 boolen 값을 0과 1로 바꿔주는 함수\n"
      ],
      "execution_count": 0,
      "outputs": []
    },
    {
      "metadata": {
        "id": "yMGpDGezRyPM",
        "colab_type": "code",
        "colab": {
          "base_uri": "https://localhost:8080/",
          "height": 369
        },
        "outputId": "ad96e2fb-ff79-43f0-c1bf-b323a8314c79"
      },
      "cell_type": "code",
      "source": [
        "# 학습\n",
        "\n",
        "sess = tf.Session()\n",
        "sess.run(tf.global_variables_initializer())\n",
        "\n",
        "for i in range(20):\n",
        "      sess.run(optimizer, feed_dict={X:x_train, Y:y_train})\n",
        "      a = sess.run(acc, feed_dict={X:x_train, Y:y_train})\n",
        "      print(a*100)\n",
        "      \n",
        "      "
      ],
      "execution_count": 138,
      "outputs": [
        {
          "output_type": "stream",
          "text": [
            "13.588333129882812\n",
            "23.741666972637177\n",
            "27.808332443237305\n",
            "33.730000257492065\n",
            "42.426666617393494\n",
            "50.20833611488342\n",
            "57.260000705718994\n",
            "62.88166642189026\n",
            "66.21833443641663\n",
            "67.69333481788635\n",
            "69.13999915122986\n",
            "70.63999772071838\n",
            "72.60500192642212\n",
            "74.88333582878113\n",
            "77.36166715621948\n",
            "79.30833101272583\n",
            "80.82500100135803\n",
            "81.88666701316833\n",
            "82.70166516304016\n",
            "83.18166732788086\n"
          ],
          "name": "stdout"
        }
      ]
    },
    {
      "metadata": {
        "id": "8Eqy67P7S8FM",
        "colab_type": "text"
      },
      "cell_type": "markdown",
      "source": [
        "epoch & batch"
      ]
    },
    {
      "metadata": {
        "id": "ostnqugCSZQj",
        "colab_type": "code",
        "colab": {
          "base_uri": "https://localhost:8080/",
          "height": 506
        },
        "outputId": "beafc035-4857-44f9-ca13-9f1a38214ec2"
      },
      "cell_type": "code",
      "source": [
        "# 학습\n",
        "\n",
        "sess = tf.Session()\n",
        "sess.run(tf.global_variables_initializer())\n",
        "\n",
        "epoch = 20\n",
        "batch = 500\n",
        "\n",
        "for e in range(epoch):\n",
        "    n_batch = len(x_train) // batch\n",
        "    for b in range (n_batch):\n",
        "        x = x_train[b *batch : (b +1) * batch]\n",
        "        y = y_train[b *batch : (b +1) * batch]\n",
        "        sess.run(optimizer, feed_dict={X:x, Y:y})\n",
        "        \n",
        "    a = sess.run(acc, feed_dict={X:x_test, Y:y_test})\n",
        "    print(a*100)\n"
      ],
      "execution_count": 9,
      "outputs": [
        {
          "output_type": "error",
          "ename": "ValueError",
          "evalue": "ignored",
          "traceback": [
            "\u001b[0;31m---------------------------------------------------------------------------\u001b[0m",
            "\u001b[0;31mValueError\u001b[0m                                Traceback (most recent call last)",
            "\u001b[0;32m<ipython-input-9-c6045e25f19f>\u001b[0m in \u001b[0;36m<module>\u001b[0;34m()\u001b[0m\n\u001b[1;32m     11\u001b[0m         \u001b[0mx\u001b[0m \u001b[0;34m=\u001b[0m \u001b[0mx_train\u001b[0m\u001b[0;34m[\u001b[0m\u001b[0mb\u001b[0m \u001b[0;34m*\u001b[0m\u001b[0mbatch\u001b[0m \u001b[0;34m:\u001b[0m \u001b[0;34m(\u001b[0m\u001b[0mb\u001b[0m \u001b[0;34m+\u001b[0m\u001b[0;36m1\u001b[0m\u001b[0;34m)\u001b[0m \u001b[0;34m*\u001b[0m \u001b[0mbatch\u001b[0m\u001b[0;34m]\u001b[0m\u001b[0;34m\u001b[0m\u001b[0;34m\u001b[0m\u001b[0m\n\u001b[1;32m     12\u001b[0m         \u001b[0my\u001b[0m \u001b[0;34m=\u001b[0m \u001b[0my_train\u001b[0m\u001b[0;34m[\u001b[0m\u001b[0mb\u001b[0m \u001b[0;34m*\u001b[0m\u001b[0mbatch\u001b[0m \u001b[0;34m:\u001b[0m \u001b[0;34m(\u001b[0m\u001b[0mb\u001b[0m \u001b[0;34m+\u001b[0m\u001b[0;36m1\u001b[0m\u001b[0;34m)\u001b[0m \u001b[0;34m*\u001b[0m \u001b[0mbatch\u001b[0m\u001b[0;34m]\u001b[0m\u001b[0;34m\u001b[0m\u001b[0;34m\u001b[0m\u001b[0m\n\u001b[0;32m---> 13\u001b[0;31m         \u001b[0msess\u001b[0m\u001b[0;34m.\u001b[0m\u001b[0mrun\u001b[0m\u001b[0;34m(\u001b[0m\u001b[0moptimizer\u001b[0m\u001b[0;34m,\u001b[0m \u001b[0mfeed_dict\u001b[0m\u001b[0;34m=\u001b[0m\u001b[0;34m{\u001b[0m\u001b[0mX\u001b[0m\u001b[0;34m:\u001b[0m\u001b[0mx\u001b[0m\u001b[0;34m,\u001b[0m \u001b[0mY\u001b[0m\u001b[0;34m:\u001b[0m\u001b[0my\u001b[0m\u001b[0;34m}\u001b[0m\u001b[0;34m)\u001b[0m\u001b[0;34m\u001b[0m\u001b[0;34m\u001b[0m\u001b[0m\n\u001b[0m\u001b[1;32m     14\u001b[0m \u001b[0;34m\u001b[0m\u001b[0m\n\u001b[1;32m     15\u001b[0m     \u001b[0ma\u001b[0m \u001b[0;34m=\u001b[0m \u001b[0msess\u001b[0m\u001b[0;34m.\u001b[0m\u001b[0mrun\u001b[0m\u001b[0;34m(\u001b[0m\u001b[0macc\u001b[0m\u001b[0;34m,\u001b[0m \u001b[0mfeed_dict\u001b[0m\u001b[0;34m=\u001b[0m\u001b[0;34m{\u001b[0m\u001b[0mX\u001b[0m\u001b[0;34m:\u001b[0m\u001b[0mx_test\u001b[0m\u001b[0;34m,\u001b[0m \u001b[0mY\u001b[0m\u001b[0;34m:\u001b[0m\u001b[0my_test\u001b[0m\u001b[0;34m}\u001b[0m\u001b[0;34m)\u001b[0m\u001b[0;34m\u001b[0m\u001b[0;34m\u001b[0m\u001b[0m\n",
            "\u001b[0;32m/usr/local/lib/python3.6/dist-packages/tensorflow/python/client/session.py\u001b[0m in \u001b[0;36mrun\u001b[0;34m(self, fetches, feed_dict, options, run_metadata)\u001b[0m\n\u001b[1;32m    927\u001b[0m     \u001b[0;32mtry\u001b[0m\u001b[0;34m:\u001b[0m\u001b[0;34m\u001b[0m\u001b[0;34m\u001b[0m\u001b[0m\n\u001b[1;32m    928\u001b[0m       result = self._run(None, fetches, feed_dict, options_ptr,\n\u001b[0;32m--> 929\u001b[0;31m                          run_metadata_ptr)\n\u001b[0m\u001b[1;32m    930\u001b[0m       \u001b[0;32mif\u001b[0m \u001b[0mrun_metadata\u001b[0m\u001b[0;34m:\u001b[0m\u001b[0;34m\u001b[0m\u001b[0;34m\u001b[0m\u001b[0m\n\u001b[1;32m    931\u001b[0m         \u001b[0mproto_data\u001b[0m \u001b[0;34m=\u001b[0m \u001b[0mtf_session\u001b[0m\u001b[0;34m.\u001b[0m\u001b[0mTF_GetBuffer\u001b[0m\u001b[0;34m(\u001b[0m\u001b[0mrun_metadata_ptr\u001b[0m\u001b[0;34m)\u001b[0m\u001b[0;34m\u001b[0m\u001b[0;34m\u001b[0m\u001b[0m\n",
            "\u001b[0;32m/usr/local/lib/python3.6/dist-packages/tensorflow/python/client/session.py\u001b[0m in \u001b[0;36m_run\u001b[0;34m(self, handle, fetches, feed_dict, options, run_metadata)\u001b[0m\n\u001b[1;32m   1126\u001b[0m                              \u001b[0;34m'which has shape %r'\u001b[0m \u001b[0;34m%\u001b[0m\u001b[0;34m\u001b[0m\u001b[0;34m\u001b[0m\u001b[0m\n\u001b[1;32m   1127\u001b[0m                              (np_val.shape, subfeed_t.name,\n\u001b[0;32m-> 1128\u001b[0;31m                               str(subfeed_t.get_shape())))\n\u001b[0m\u001b[1;32m   1129\u001b[0m           \u001b[0;32mif\u001b[0m \u001b[0;32mnot\u001b[0m \u001b[0mself\u001b[0m\u001b[0;34m.\u001b[0m\u001b[0mgraph\u001b[0m\u001b[0;34m.\u001b[0m\u001b[0mis_feedable\u001b[0m\u001b[0;34m(\u001b[0m\u001b[0msubfeed_t\u001b[0m\u001b[0;34m)\u001b[0m\u001b[0;34m:\u001b[0m\u001b[0;34m\u001b[0m\u001b[0;34m\u001b[0m\u001b[0m\n\u001b[1;32m   1130\u001b[0m             \u001b[0;32mraise\u001b[0m \u001b[0mValueError\u001b[0m\u001b[0;34m(\u001b[0m\u001b[0;34m'Tensor %s may not be fed.'\u001b[0m \u001b[0;34m%\u001b[0m \u001b[0msubfeed_t\u001b[0m\u001b[0;34m)\u001b[0m\u001b[0;34m\u001b[0m\u001b[0;34m\u001b[0m\u001b[0m\n",
            "\u001b[0;31mValueError\u001b[0m: Cannot feed value of shape (500, 784) for Tensor 'Placeholder:0', which has shape '(?, 2)'"
          ]
        }
      ]
    },
    {
      "metadata": {
        "id": "OqE8uWKBsiS5",
        "colab_type": "code",
        "colab": {
          "base_uri": "https://localhost:8080/",
          "height": 506
        },
        "outputId": "f56b57c6-ef39-4d25-f3b7-6ba5dedde249"
      },
      "cell_type": "code",
      "source": [
        "import matplotlib.pyplot as plt\n",
        "\n",
        "p = sess.run(pred, feed_dict={X: x_test})\n",
        "print(p.shape)\n",
        "\n",
        "num = 9\n",
        "plt.imshow(x_test[num].reshape(28, 28))\n",
        "print(\"정답: \", y_test[num])\n",
        "print(\"예측: \", p[num])"
      ],
      "execution_count": 8,
      "outputs": [
        {
          "output_type": "error",
          "ename": "ValueError",
          "evalue": "ignored",
          "traceback": [
            "\u001b[0;31m---------------------------------------------------------------------------\u001b[0m",
            "\u001b[0;31mValueError\u001b[0m                                Traceback (most recent call last)",
            "\u001b[0;32m<ipython-input-8-1056ae4679df>\u001b[0m in \u001b[0;36m<module>\u001b[0;34m()\u001b[0m\n\u001b[1;32m      1\u001b[0m \u001b[0;32mimport\u001b[0m \u001b[0mmatplotlib\u001b[0m\u001b[0;34m.\u001b[0m\u001b[0mpyplot\u001b[0m \u001b[0;32mas\u001b[0m \u001b[0mplt\u001b[0m\u001b[0;34m\u001b[0m\u001b[0;34m\u001b[0m\u001b[0m\n\u001b[1;32m      2\u001b[0m \u001b[0;34m\u001b[0m\u001b[0m\n\u001b[0;32m----> 3\u001b[0;31m \u001b[0mp\u001b[0m \u001b[0;34m=\u001b[0m \u001b[0msess\u001b[0m\u001b[0;34m.\u001b[0m\u001b[0mrun\u001b[0m\u001b[0;34m(\u001b[0m\u001b[0mpred\u001b[0m\u001b[0;34m,\u001b[0m \u001b[0mfeed_dict\u001b[0m\u001b[0;34m=\u001b[0m\u001b[0;34m{\u001b[0m\u001b[0mX\u001b[0m\u001b[0;34m:\u001b[0m \u001b[0mx_test\u001b[0m\u001b[0;34m}\u001b[0m\u001b[0;34m)\u001b[0m\u001b[0;34m\u001b[0m\u001b[0;34m\u001b[0m\u001b[0m\n\u001b[0m\u001b[1;32m      4\u001b[0m \u001b[0mprint\u001b[0m\u001b[0;34m(\u001b[0m\u001b[0mp\u001b[0m\u001b[0;34m.\u001b[0m\u001b[0mshape\u001b[0m\u001b[0;34m)\u001b[0m\u001b[0;34m\u001b[0m\u001b[0;34m\u001b[0m\u001b[0m\n\u001b[1;32m      5\u001b[0m \u001b[0;34m\u001b[0m\u001b[0m\n",
            "\u001b[0;32m/usr/local/lib/python3.6/dist-packages/tensorflow/python/client/session.py\u001b[0m in \u001b[0;36mrun\u001b[0;34m(self, fetches, feed_dict, options, run_metadata)\u001b[0m\n\u001b[1;32m    927\u001b[0m     \u001b[0;32mtry\u001b[0m\u001b[0;34m:\u001b[0m\u001b[0;34m\u001b[0m\u001b[0;34m\u001b[0m\u001b[0m\n\u001b[1;32m    928\u001b[0m       result = self._run(None, fetches, feed_dict, options_ptr,\n\u001b[0;32m--> 929\u001b[0;31m                          run_metadata_ptr)\n\u001b[0m\u001b[1;32m    930\u001b[0m       \u001b[0;32mif\u001b[0m \u001b[0mrun_metadata\u001b[0m\u001b[0;34m:\u001b[0m\u001b[0;34m\u001b[0m\u001b[0;34m\u001b[0m\u001b[0m\n\u001b[1;32m    931\u001b[0m         \u001b[0mproto_data\u001b[0m \u001b[0;34m=\u001b[0m \u001b[0mtf_session\u001b[0m\u001b[0;34m.\u001b[0m\u001b[0mTF_GetBuffer\u001b[0m\u001b[0;34m(\u001b[0m\u001b[0mrun_metadata_ptr\u001b[0m\u001b[0;34m)\u001b[0m\u001b[0;34m\u001b[0m\u001b[0;34m\u001b[0m\u001b[0m\n",
            "\u001b[0;32m/usr/local/lib/python3.6/dist-packages/tensorflow/python/client/session.py\u001b[0m in \u001b[0;36m_run\u001b[0;34m(self, handle, fetches, feed_dict, options, run_metadata)\u001b[0m\n\u001b[1;32m   1126\u001b[0m                              \u001b[0;34m'which has shape %r'\u001b[0m \u001b[0;34m%\u001b[0m\u001b[0;34m\u001b[0m\u001b[0;34m\u001b[0m\u001b[0m\n\u001b[1;32m   1127\u001b[0m                              (np_val.shape, subfeed_t.name,\n\u001b[0;32m-> 1128\u001b[0;31m                               str(subfeed_t.get_shape())))\n\u001b[0m\u001b[1;32m   1129\u001b[0m           \u001b[0;32mif\u001b[0m \u001b[0;32mnot\u001b[0m \u001b[0mself\u001b[0m\u001b[0;34m.\u001b[0m\u001b[0mgraph\u001b[0m\u001b[0;34m.\u001b[0m\u001b[0mis_feedable\u001b[0m\u001b[0;34m(\u001b[0m\u001b[0msubfeed_t\u001b[0m\u001b[0;34m)\u001b[0m\u001b[0;34m:\u001b[0m\u001b[0;34m\u001b[0m\u001b[0;34m\u001b[0m\u001b[0m\n\u001b[1;32m   1130\u001b[0m             \u001b[0;32mraise\u001b[0m \u001b[0mValueError\u001b[0m\u001b[0;34m(\u001b[0m\u001b[0;34m'Tensor %s may not be fed.'\u001b[0m \u001b[0;34m%\u001b[0m \u001b[0msubfeed_t\u001b[0m\u001b[0;34m)\u001b[0m\u001b[0;34m\u001b[0m\u001b[0;34m\u001b[0m\u001b[0m\n",
            "\u001b[0;31mValueError\u001b[0m: Cannot feed value of shape (10000, 784) for Tensor 'Placeholder:0', which has shape '(?, 2)'"
          ]
        }
      ]
    },
    {
      "metadata": {
        "id": "RTySIl1ksa4y",
        "colab_type": "text"
      },
      "cell_type": "markdown",
      "source": [
        "#CNN MNIST"
      ]
    },
    {
      "metadata": {
        "id": "QsQHCb8zU5q1",
        "colab_type": "code",
        "colab": {
          "base_uri": "https://localhost:8080/",
          "height": 52
        },
        "outputId": "6bc39420-7ac5-4681-8222-17dd40c512a3"
      },
      "cell_type": "code",
      "source": [
        "import tensorflow as tf\n",
        "\n",
        "# 데이터 준비\n",
        "(x_train, y_train), (x_test, y_test) = tf.keras. datasets.mnist.load_data()\n",
        "\n",
        "print(x_train.shape, y_train.shape)\n",
        "\n",
        "x_train = x_train.reshape(-1, 28, 28, 1)    #reshape 해줌\n",
        "x_test = x_test.reshape(-1, 28, 28, 1)\n",
        "\n",
        "y_train = np.eye(10)[y_train]\n",
        "y_test = np.eye(10)[y_test]\n",
        "\n",
        "print(x_train.shape, y_train.shape)\n",
        "\n",
        "\n",
        "                    \n",
        "                    \n",
        "\n"
      ],
      "execution_count": 11,
      "outputs": [
        {
          "output_type": "stream",
          "text": [
            "(60000, 28, 28) (60000,)\n",
            "(60000, 28, 28, 1) (60000, 10)\n"
          ],
          "name": "stdout"
        }
      ]
    },
    {
      "metadata": {
        "id": "LlboLcFgu7Iq",
        "colab_type": "code",
        "colab": {}
      },
      "cell_type": "code",
      "source": [
        "tf.reset_default_graph()\n",
        "\n",
        "# 모델을 만들고\n",
        "\n",
        "X = tf.placeholder(tf.float32, shape=(None, 28, 28, 1))\n",
        "Y = tf.placeholder(tf.float32, shape=(None, 10))\n",
        "\n",
        "# convolution layer    => 컨벌루전 필터로 이미지를 스캔 한다\n",
        "# 3 x 3 x1,  32장\n",
        "\n",
        "W1 = tf.Variable(tf.random_normal([3, 3, 1, 32]))\n",
        "B1 = tf.Variable(tf.random_normal([32]))\n",
        "\n",
        "C1 = tf.nn.conv2d(X, W1, strides=[1, 1, 1, 1], padding = 'SAME')\n",
        "C1 = tf.add(C1, B1)\n",
        "\n",
        "# C1의 shape => None x 28 x 28 x32\n",
        "C1 = tf.nn.relu(C1)  #Activate\n",
        "\n",
        "# pooling layer  스캔된 컨벌루전 필더 된 이미지들을 축소 시켜준다.\n",
        "P1 = tf.nn.max_pool(C1, ksize=[1, 2, 2, 1], strides=[1, 2, 2, 1], padding='SAME')\n",
        "\n",
        "# P1 shape => None x 14 x 14 x 32\n",
        "\n",
        "# convolution layer 2\n",
        "# 3x3x32 =>64\n",
        "W2 = tf.Variable(tf.random_normal([1, 1, 32, 64]))\n",
        "B2 = tf.Variable(tf.random_normal([64]))\n",
        "\n",
        "C2 = tf.nn.conv2d(P1, W2, strides=[1, 1, 1, 1], padding = 'SAME')\n",
        "C2 = tf.add(C2, B2)\n",
        "\n",
        "# C2의 shape => None x 14 x 14 x64\n",
        "C2 = tf.nn.relu(C2)  #Activate\n",
        "\n",
        "# pooling layer2  \n",
        "P2 = tf.nn.max_pool(C2, ksize=[1, 2, 2, 1], strides=[1, 2, 2, 1], padding='SAME')\n",
        "\n",
        "# P1 shape => None x 7 x 7 x 64\n",
        "\n",
        "\n",
        "\n",
        "######사진 전처리 작업끝##################################### 학습준비\n",
        "\n",
        "# fc layer\n",
        "flat = tf.reshape(P2, [-1, 7 *7*64])\n",
        "\n",
        "W3 = tf.Variable(tf.random_normal([7*7*64,  10]))\n",
        "B3 = tf.Variable(tf.random_normal([10]))\n",
        "H3 = tf.add(tf.matmul(flat, W3), B3)\n",
        "\n",
        "#cost\n",
        "\n",
        "cost = tf.nn.softmax_cross_entropy_with_logits_v2(logits=H3, labels=Y)\n",
        "cost = tf.reduce_mean(cost)\n",
        "optimizer = tf.train.AdamOptimizer(0.01).minimize(cost)\n",
        "\n",
        "\n",
        "#acc   Data개수를 나눠서 반복, 학습\n",
        "\n",
        "pred = tf.nn.softmax(H3)\n",
        "\n",
        "acc = tf.equal(tf.argmax(pred, 1), tf.argmax(Y, 1))\n",
        "acc = tf.reduce_mean(tf.cast(acc, tf.float32))\n",
        "\n",
        "\n",
        "\n",
        "\n",
        "                 \n",
        "                 "
      ],
      "execution_count": 0,
      "outputs": []
    },
    {
      "metadata": {
        "id": "0lCNAI6N1SfK",
        "colab_type": "code",
        "colab": {
          "base_uri": "https://localhost:8080/",
          "height": 369
        },
        "outputId": "f3a06dfb-19ba-43ca-ae72-f441ee1f1f9a"
      },
      "cell_type": "code",
      "source": [
        "#학습\n",
        "\n",
        "sess = tf. Session()\n",
        "sess.run(tf.global_variables_initializer())\n",
        "\n",
        "epoch = 20\n",
        "batch = 256\n",
        "\n",
        "for e in range(epoch):\n",
        "    n_batch = len(x_train) // batch\n",
        "    for b in range(n_batch):\n",
        "        x = x_train[b *batch : (b + 1) *batch]\n",
        "        y = y_train[b *batch : (b + 1) *batch]\n",
        "        sess.run(optimizer, feed_dict={X:x, Y:y})\n",
        "        \n",
        "    a = sess.run(acc, feed_dict={X:x_test, Y:y_test})\n",
        "    print(\"{0: .2f}%\".format(a*100))\n",
        "        "
      ],
      "execution_count": 15,
      "outputs": [
        {
          "output_type": "stream",
          "text": [
            " 91.56%\n",
            " 94.07%\n",
            " 95.59%\n",
            " 96.39%\n",
            " 96.56%\n",
            " 96.88%\n",
            " 96.86%\n",
            " 96.71%\n",
            " 96.90%\n",
            " 97.05%\n",
            " 97.43%\n",
            " 97.03%\n",
            " 97.24%\n",
            " 97.36%\n",
            " 97.64%\n",
            " 97.47%\n",
            " 97.29%\n",
            " 97.48%\n",
            " 97.08%\n",
            " 97.20%\n"
          ],
          "name": "stdout"
        }
      ]
    },
    {
      "metadata": {
        "id": "3Xd72Ipe7kRG",
        "colab_type": "text"
      },
      "cell_type": "markdown",
      "source": [
        "이미지 확인 (참고용"
      ]
    },
    {
      "metadata": {
        "id": "D15-_N3z7mTV",
        "colab_type": "code",
        "colab": {}
      },
      "cell_type": "code",
      "source": [
        "%matplotlib inline\n",
        "import matplotlib.pyplot as plt\n",
        "import math\n",
        "import numpy as np\n",
        "\n",
        "def plot_conv_weights(weights, input_channel=0):\n",
        "    \n",
        "    with tf.Session() as sess:\n",
        "        sess.run(tf.global_variables_initializer())\n",
        "\n",
        "        w = sess.run(weights)\n",
        "\n",
        "        w_min = np.min(w)\n",
        "        w_max = np.max(w)\n",
        "\n",
        "        num_filters = w.shape[3]\n",
        "        num_grids = math.ceil(math.sqrt(num_filters))\n",
        "        fig, axes = plt.subplots(num_grids, num_grids)\n",
        "\n",
        "        for i, ax in enumerate(axes.flat):\n",
        "            if i < num_filters:\n",
        "                img = w[:, :, input_channel, i]\n",
        "                ax.imshow(img, vmin=w_min, vmax=w_max, interpolation='nearest', cmap='seismic')\n",
        "\n",
        "            ax.set_xticks([])\n",
        "            ax.set_yticks([])\n",
        "\n",
        "        plt.show()"
      ],
      "execution_count": 0,
      "outputs": []
    },
    {
      "metadata": {
        "id": "TBUPjMtm7oRN",
        "colab_type": "code",
        "colab": {
          "base_uri": "https://localhost:8080/",
          "height": 710
        },
        "outputId": "51c4b830-9215-4add-bb84-ff8943c0ab54"
      },
      "cell_type": "code",
      "source": [
        "plot_conv_weights(weights=W1)\n",
        "plot_conv_weights(weights=W2, input_channel=0)\n",
        "plot_conv_weights(weights=W2, input_channel=1)"
      ],
      "execution_count": 17,
      "outputs": [
        {
          "output_type": "display_data",
          "data": {
            "image/png": "[encoded data removed]",
            "text/plain": [
              "<Figure size 432x288 with 36 Axes>"
            ]
          },
          "metadata": {
            "tags": []
          }
        },
        {
          "output_type": "display_data",
          "data": {
            "image/png": "[encoded data removed]",
            "text/plain": [
              "<Figure size 432x288 with 64 Axes>"
            ]
          },
          "metadata": {
            "tags": []
          }
        },
        {
          "output_type": "display_data",
          "data": {
            "image/png": "[encoded data removed]",
            "text/plain": [
              "<Figure size 432x288 with 64 Axes>"
            ]
          },
          "metadata": {
            "tags": []
          }
        }
      ]
    },
    {
      "metadata": {
        "id": "t0_WwSCV7pu1",
        "colab_type": "code",
        "colab": {}
      },
      "cell_type": "code",
      "source": [
        "%matplotlib inline\n",
        "import matplotlib.pyplot as plt\n",
        "import math\n",
        "import numpy as np\n",
        "\n",
        "def plot_conv_layer(layer, image):\n",
        "\n",
        "    with tf.Session() as sess:\n",
        "\n",
        "        sess.run(tf.global_variables_initializer())\n",
        "\n",
        "        feed_dict = {X: [image]}\n",
        "        values = sess.run(layer, feed_dict=feed_dict)\n",
        "\n",
        "        num_filters = values.shape[3]\n",
        "        num_grids = math.ceil(math.sqrt(num_filters))\n",
        "        fig, axes = plt.subplots(num_grids, num_grids)\n",
        "\n",
        "        for i, ax in enumerate(axes.flat):\n",
        "            if i < num_filters:\n",
        "                img = values[0, :, :, i]\n",
        "                ax.imshow(img, interpolation='nearest', cmap='binary')\n",
        "                \n",
        "            ax.set_xticks([])\n",
        "            ax.set_yticks([])\n",
        "\n",
        "        plt.show()"
      ],
      "execution_count": 0,
      "outputs": []
    },
    {
      "metadata": {
        "id": "vr9a2LzG7rdd",
        "colab_type": "code",
        "colab": {
          "base_uri": "https://localhost:8080/",
          "height": 513
        },
        "outputId": "3a4d24f8-1026-40d0-9f87-934744b769b3"
      },
      "cell_type": "code",
      "source": [
        "image1 = x_test[0]\n",
        "plt.imshow(image1.reshape(28, 28))\n",
        "plt.show()\n",
        "\n",
        "image2 = x_test[1]\n",
        "plt.imshow(image2.reshape(28, 28))\n",
        "plt.show()"
      ],
      "execution_count": 19,
      "outputs": [
        {
          "output_type": "display_data",
          "data": {
            "image/png": "[encoded data removed]",
            "text/plain": [
              "<Figure size 432x288 with 1 Axes>"
            ]
          },
          "metadata": {
            "tags": []
          }
        },
        {
          "output_type": "display_data",
          "data": {
            "image/png": "[encoded data removed]",
            "text/plain": [
              "<Figure size 432x288 with 1 Axes>"
            ]
          },
          "metadata": {
            "tags": []
          }
        }
      ]
    },
    {
      "metadata": {
        "id": "h1zaA7cT7sfl",
        "colab_type": "code",
        "colab": {
          "base_uri": "https://localhost:8080/",
          "height": 479
        },
        "outputId": "b0b479b6-13de-4553-9ab6-995772e0eeca"
      },
      "cell_type": "code",
      "source": [
        "plot_conv_layer(layer=P1, image=image1)\n",
        "plot_conv_layer(layer=P2, image=image1)"
      ],
      "execution_count": 20,
      "outputs": [
        {
          "output_type": "display_data",
          "data": {
            "image/png": "[encoded data removed]",
            "text/plain": [
              "<Figure size 432x288 with 36 Axes>"
            ]
          },
          "metadata": {
            "tags": []
          }
        },
        {
          "output_type": "display_data",
          "data": {
            "image/png": "[encoded data removed]",
            "text/plain": [
              "<Figure size 432x288 with 64 Axes>"
            ]
          },
          "metadata": {
            "tags": []
          }
        }
      ]
    },
    {
      "metadata": {
        "id": "5PF-8hEs7txl",
        "colab_type": "code",
        "colab": {}
      },
      "cell_type": "code",
      "source": [
        ""
      ],
      "execution_count": 0,
      "outputs": []
    }
  ]
}