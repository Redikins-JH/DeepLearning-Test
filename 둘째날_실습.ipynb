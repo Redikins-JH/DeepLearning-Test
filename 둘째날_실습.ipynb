{
  "nbformat": 4,
  "nbformat_minor": 0,
  "metadata": {
    "colab": {
      "name": "둘째날 실습",
      "version": "0.3.2",
      "provenance": [],
      "include_colab_link": true
    },
    "kernelspec": {
      "name": "python3",
      "display_name": "Python 3"
    }
  },
  "cells": [
    {
      "cell_type": "markdown",
      "metadata": {
        "id": "view-in-github",
        "colab_type": "text"
      },
      "source": [
        "<a href=\"https://colab.research.google.com/github/Seedplant/React-Test/blob/master/%EB%91%98%EC%A7%B8%EB%82%A0_%EC%8B%A4%EC%8A%B5.ipynb\" target=\"_parent\"><img src=\"https://colab.research.google.com/assets/colab-badge.svg\" alt=\"Open In Colab\"/></a>"
      ]
    },
    {
      "metadata": {
        "id": "ogNVePBEqzgV",
        "colab_type": "code",
        "colab": {}
      },
      "cell_type": "code",
      "source": [
        "# 데이터를 준비하고\n",
        "x = [\n",
        "    [0.0, 0.0],\n",
        "    [0.0, 1.0],\n",
        "    [1.0, 0.0],\n",
        "    [1.0, 1.0]\n",
        "]\n",
        "y = [\n",
        "    [0.0],\n",
        "    [1.0],\n",
        "    [1.0],\n",
        "    [1.0]\n",
        "]\n"
      ],
      "execution_count": 0,
      "outputs": []
    },
    {
      "metadata": {
        "id": "2yujvO9jr1QM",
        "colab_type": "code",
        "colab": {}
      },
      "cell_type": "code",
      "source": [
        "import tensorflow as tf\n",
        "\n",
        "# 모델을 만들고\n",
        "tf.reset_default_graph()\n",
        "\n",
        "X = tf.placeholder(tf.float32, shape=(None, 2))\n",
        "Y = tf.placeholder(tf.float32, shape=(None, 1))\n",
        "\n",
        "W = tf. Variable(tf.random_normal([2, 1]))\n",
        "B = tf. Variable(tf.random_normal([1]))\n",
        "\n",
        "# H = X * W + B\n",
        "H = tf.add(tf.matmul(X, W), B)\n",
        "\n",
        "# cost를 정의합니다.\n",
        "\n",
        "cost = tf.nn.sigmoid_cross_entropy_with_logits(logits = H, labels=Y)\n",
        "cost = tf.reduce_mean(cost)\n",
        "optimizer = tf.train.AdamOptimizer(0.01).minimize(cost)\n",
        "\n",
        "pred = tf.nn.sigmoid(H)\n",
        "\n"
      ],
      "execution_count": 0,
      "outputs": []
    },
    {
      "metadata": {
        "id": "SxIQP2i6s7V0",
        "colab_type": "code",
        "colab": {
          "base_uri": "https://localhost:8080/",
          "height": 193
        },
        "outputId": "94c2b2c3-bf85-493f-b5fc-2a4b0e5b84b6"
      },
      "cell_type": "code",
      "source": [
        "# 모델을 합습 / 평가합니다.\n",
        "sess = tf.Session()\n",
        "sess.run(tf.global_variables_initializer())\n",
        "\n",
        "for i in range(1000):\n",
        "    sess.run(optimizer, feed_dict={X: x, Y: y})\n",
        "    if i % 100 == 0:\n",
        "        c = sess.run(cost, feed_dict={X :x, Y:y})\n",
        "        print(c)"
      ],
      "execution_count": 30,
      "outputs": [
        {
          "output_type": "stream",
          "text": [
            "0.9182347\n",
            "0.3918205\n",
            "0.302887\n",
            "0.25579718\n",
            "0.21643674\n",
            "0.18330492\n",
            "0.1558998\n",
            "0.13337032\n",
            "0.114838235\n",
            "0.099534445\n"
          ],
          "name": "stdout"
        }
      ]
    },
    {
      "metadata": {
        "id": "-CiH3F5nuh-N",
        "colab_type": "code",
        "colab": {
          "base_uri": "https://localhost:8080/",
          "height": 87
        },
        "outputId": "5a24f163-8bcc-4ded-d905-bdbdc3730e8d"
      },
      "cell_type": "code",
      "source": [
        "p = sess.run(pred, feed_dict={X: x})\n",
        "print(p)"
      ],
      "execution_count": 31,
      "outputs": [
        {
          "output_type": "stream",
          "text": [
            "[[0.18097638]\n",
            " [0.91398   ]\n",
            " [0.94463116]\n",
            " [0.9987826 ]]\n"
          ],
          "name": "stdout"
        }
      ]
    }
  ]
}